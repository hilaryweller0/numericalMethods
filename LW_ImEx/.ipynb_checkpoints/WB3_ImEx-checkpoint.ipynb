{
 "cells": [
  {
   "cell_type": "markdown",
   "id": "7e94ce24",
   "metadata": {},
   "source": [
    "# Deriving Third-order Warming and Beam\n",
    "Start from the Taylor series in time and convert temporal to spatial derivatives:\n",
    "\\begin{eqnarray}\n",
    "\\psi_{j}^{n+1}\t&=&\t\\psi_{j}^{n}+\\Delta t\\frac{\\partial\\psi_{j}^{n}}{\\partial t}+\\frac{\\Delta t^{2}}{2!}\\frac{\\partial^{2}\\psi_{j}^{n}}{\\partial t^{2}}+\\frac{\\Delta t^{3}}{3!}\\frac{\\partial^{3}\\psi_{j}^{n}}{\\partial t^{3}}+\\left(\\Delta t^{4}\\right) \\\\\n",
    "\t&=&\t\\psi_{j}^{n}-u\\Delta t\\frac{\\partial\\psi_{j}^{n}}{\\partial x}+u^{2}\\frac{\\Delta t^{2}}{2!}\\frac{\\partial^{2}\\psi_{j}^{n}}{\\partial x^{2}}-u^{3}\\frac{\\Delta t^{3}}{3!}\\frac{\\partial^{3}\\psi_{j}^{n}}{\\partial x^{3}}+O\\left(\\Delta t^{4}\\right)\n",
    "\\end{eqnarray}"
   ]
  },
  {
   "cell_type": "markdown",
   "id": "ec4a232d",
   "metadata": {},
   "source": [
    "In order to find the derivatives, consider the cubic polinomial\n",
    "$$\n",
    "\\psi=ax^{3}+bx^{2}+cx+d\n",
    "$$\n",
    "so that\n",
    "\\begin{eqnarray}\n",
    "\\psi^{\\prime} &=& 3ax^{2} + 2bx + c\\\\\n",
    "\\psi^{\\prime\\prime} &=& 6ax+2b\\\\\n",
    "\\psi^{\\prime\\prime\\prime} &=& 6a.\n",
    "\\end{eqnarray}\n",
    "Then we assume that position $i$ is at $x=0$, then we get:\n",
    "\\begin{eqnarray}\n",
    "\\psi_{i} &=& d\\\\\n",
    "\\psi_{i}^{\\prime} &=& c\\\\\n",
    "\\psi_{i}^{\\prime\\prime} &=& 2b\\\\\n",
    "\\psi_{i}^{\\prime\\prime\\prime} &=& 6a.\n",
    "\\end{eqnarray}\n",
    "Substituting positions $x_{i-3}=-3\\Delta x$, $x_{i-2}=-2\\Delta x$, $x_{i-1}=-\\Delta x$ into the cubic polynomial gives\n",
    "\\begin{eqnarray}\n",
    "\\psi_{i-3}\t&=&\t-27a\\Delta x^{3}+9b\\Delta x^{2}-3c\\Delta x+ d \\\\\n",
    "\\psi_{i-2}\t&=&\t-8a\\Delta x^{3}+4b\\Delta x^{2}-2c\\Delta x+d \\\\\n",
    "\\psi_{i-1}\t&=&\t-a\\Delta x^{3}+b\\Delta x^{2}-c\\Delta x + d \\\\\n",
    "\\psi_{i}\t&=&\td\n",
    "\\end{eqnarray}\n",
    "which can be solving using Gaussian elimination to find $a$, $b$ and $c$. This can assume $\\Delta x = 1$ without loss of generality:"
   ]
  },
  {
   "cell_type": "code",
   "execution_count": null,
   "id": "75035f0f",
   "metadata": {},
   "outputs": [],
   "source": [
    "from sympy import *\n",
    "from sympy.matrices import Matrix\n",
    "from fractions import Fraction as F\n",
    "d3pdx3, d2pdx2, dpdx = symbols(\"d3pdx3 d2pdx2 dpdx\")\n",
    "p3,p2,p1,p0 = symbols(\"p3,p2,p1,p0\") # for psi_i-3, psi-i-2 ...\n",
    "A = Matrix([[F(-27,6),F(9,2),-3,1],[F(-8,6),2,-2,1],[F(-1,6),F(1,2),-1,1],[0,0,0,1]])\n",
    "psi = Matrix([p3,p2,p1,p0])\n",
    "[d3pdx3, d2pdx2, dpdx, p0] = A.solve(psi)\n",
    "print('d3pdx3 =',d3pdx3, '\\nd2pdx2 =', d2pdx2, '\\ndpdx =', dpdx,'\\np0 =',p0)"
   ]
  },
  {
   "cell_type": "code",
   "execution_count": null,
   "id": "32c6335e-f21e-4843-a1c4-8f96f718aae6",
   "metadata": {},
   "outputs": [],
   "source": [
    "# From this we can work out the explicit WB3e scheme\n",
    "c = symbols(\"c\")\n",
    "WB3e = collect(expand(p0 - c*dpdx + c**2/2*d2pdx2 - c**3/6*d3pdx3), [p0,p1,p2,p3])\n",
    "print('WB3e is ', WB3e)"
   ]
  },
  {
   "cell_type": "markdown",
   "id": "89671b9e-6006-4aef-8da7-e0e43eb6498d",
   "metadata": {},
   "source": [
    "Therefore WB3e (the explcit scheme) is:\n",
    "\\begin{eqnarray}\n",
    "\\psi_j^{n+1} &=& \\psi_j^n - \\frac{c}{6}\\left(11 - 6c + c^2\\right)\\psi_j^n \n",
    "                + \\frac{c}{2}\\left(6 - 5c + c^2\\right)\\psi_{j-1}^n\\\\\n",
    "             &-& \\frac{c}{2}\\left(3 - 4c + c^2\\right)\\psi_{j-2}^n\n",
    "              + \\frac{c}{6}\\left(2 - 3c + c^2\\right)\\psi_{j-3}^n\n",
    "\\end{eqnarray}"
   ]
  },
  {
   "cell_type": "markdown",
   "id": "ffbb63e2-731c-4eb6-bd6d-6611bbfbdcf4",
   "metadata": {},
   "source": [
    "The implicit WB3i scheme is\n",
    "\\begin{eqnarray}\n",
    "\\psi_{j}^{n} &=& \\psi_{j}^{n+1} - \\Delta t\\frac{\\partial\\psi_{j}^{n+1}}{\\partial t}\n",
    "        +\\frac{\\Delta t^{2}}{2!}\\frac{\\partial^{2}\\psi_{j}^{n+1}}{\\partial t^{2}}\n",
    "        -\\frac{\\Delta t^{3}}{3!}\\frac{\\partial^{3}\\psi_{j}^{n+1}}{\\partial t^{3}}\n",
    "        +\\left(\\Delta t^{4}\\right) \\\\\n",
    "\\implies \\psi_j^{n+1} &=& \\psi_j^{n} + \\Delta t\\frac{\\partial\\psi_{j}^{n+1}}{\\partial t}\n",
    "        -\\frac{\\Delta t^{2}}{2!}\\frac{\\partial^{2}\\psi_{j}^{n+1}}{\\partial t^{2}}\n",
    "        +\\frac{\\Delta t^{3}}{3!}\\frac{\\partial^{3}\\psi_{j}^{n+1}}{\\partial t^{3}} \\\\\n",
    "        &=& \\psi_j^{n} -u \\Delta t\\frac{\\partial\\psi_{j}^{n+1}}{\\partial x}\n",
    "        -u\\frac{\\Delta t^{2}}{2!}\\frac{\\partial^{2}\\psi_{j}^{n+1}}{\\partial x^{2}}\n",
    "        -u\\frac{\\Delta t^{3}}{3!}\\frac{\\partial^{3}\\psi_{j}^{n+1}}{\\partial x^{3}} \\\\\n",
    "\\end{eqnarray}"
   ]
  },
  {
   "cell_type": "code",
   "execution_count": null,
   "id": "dd6046ba-19fd-464c-bb77-d3ec9fb3fea1",
   "metadata": {},
   "outputs": [],
   "source": [
    "# The implicit WB3i scheme\n",
    "WB3i = collect(expand(p0 - c*dpdx - c**2/2*d2pdx2 - c**3/6*d3pdx3), [p0,p1,p2,p3])\n",
    "print('WB3i is ', WB3i)"
   ]
  },
  {
   "cell_type": "markdown",
   "id": "e31881e4-4983-412b-9a25-9b5c71473f5a",
   "metadata": {},
   "source": [
    "Therefore the WB3i is\n",
    "\\begin{eqnarray}\n",
    "\\psi_j^{n+1} &=& \\psi_j^n - \\frac{c}{6}\\left(11 + 6c + c^2\\right)\\psi_j^{n+1} \n",
    "                + \\frac{c}{2}\\left(6 + 5c + c^2\\right)\\psi_{j-1}^{n+1}\\\\\n",
    "             &-& \\frac{c}{2}\\left(3 + 4c + c^2\\right)\\psi_{j-2}^{n+1}\n",
    "              + \\frac{c}{6}\\left(2 + 3c + c^2\\right)\\psi_{j-3}^{n+1}\n",
    "\\end{eqnarray}"
   ]
  },
  {
   "cell_type": "code",
   "execution_count": null,
   "id": "eb056ce1-49c9-4e7c-9967-3a3abf33ade0",
   "metadata": {},
   "outputs": [],
   "source": [
    "# Stability Analysis of various schemes\n",
    "import matplotlib.pyplot as plt\n",
    "from matplotlib import colors\n",
    "import numpy as np\n",
    "import sys\n",
    "sys.path.append('analysis')\n",
    "import WBstabilityFunctions as WB\n",
    "import LWstabilityFunctions as LW\n",
    "\n",
    "As =     [WB.A_WB3i, WB.A_WB3e, WB.A_full, WB.A_full, LW.A_full, LW.A_full]\n",
    "titles = [\"WB3i\",    \"WB3e\",    \"WB2i\",    \"WB2e\",    \"LW2i\",   \"LW2e\"]\n",
    "args = [None, None, [1,1], [0,1], [1,1], [0,1]]\n",
    "\n",
    "kdxs = np.linspace(1e-6, 2*np.pi, 37)\n",
    "cs = 10**(np.linspace(-1, 1, 81))\n",
    "# for colourscale\n",
    "levels=np.arange(0, 2.1, 0.1)\n",
    "cnorm = colors.BoundaryNorm(levels, 150)\n",
    "magA = np.zeros([len(kdxs), len(cs)])\n",
    "uc = np.zeros([len(kdxs), len(cs)])\n",
    "for i in range(len(As)):\n",
    "    for ic in range(len(cs)):\n",
    "        c = cs[ic]\n",
    "        for ik in range(len(kdxs)):\n",
    "            kdx = kdxs[ik]\n",
    "            A = 0*1j\n",
    "            if args[i] is None:\n",
    "                A = As[i](c,kdx)\n",
    "            else:\n",
    "                A = As[i](c, *args[i], kdx)\n",
    "            magA[ik,ic] = abs(A)\n",
    "            uc[ik,ic] = -np.angle(A)/(c*kdx)\n",
    "    fig,axs = plt.subplots(1,2, figsize=(8,4), layout='constrained')\n",
    "    ax0plot = axs[0].contourf(cs, kdxs,magA, levels)#, norm=cnorm,\n",
    "    #                 cmap='Greys', extend='both')\n",
    "    fig.colorbar(ax0plot,ax=axs[0], orientation='horizontal')\n",
    "    axs[0].contour(cs, kdxs, magA, [0, 1], colors=['k', 'k'])\n",
    "    axs[0].set(xlabel=r'$c$', ylabel=r'$k\\Delta x$', title = 'Magnification Factor Amplitude for '+titles[i])\n",
    "    \n",
    "    ax1plot = axs[1].contourf(cs, kdxs,uc, np.arange(0, 2.1, 0.1))\n",
    "    fig.colorbar(ax1plot, ax=axs[1], orientation='horizontal')\n",
    "    axs[1].contour(cs, kdxs, uc, [0, 1], colors=['grey', 'k'])\n",
    "    axs[1].set(xlabel=r'$c$', ylabel=r'$k\\Delta x$', title = 'Phase speed for '+titles[i])\n",
    "    plt.show()"
   ]
  }
 ],
 "metadata": {
  "kernelspec": {
   "display_name": "Python 3 (ipykernel)",
   "language": "python",
   "name": "python3"
  },
  "language_info": {
   "codemirror_mode": {
    "name": "ipython",
    "version": 3
   },
   "file_extension": ".py",
   "mimetype": "text/x-python",
   "name": "python",
   "nbconvert_exporter": "python",
   "pygments_lexer": "ipython3",
   "version": "3.12.3"
  }
 },
 "nbformat": 4,
 "nbformat_minor": 5
}

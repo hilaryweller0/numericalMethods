{
 "cells": [
  {
   "cell_type": "markdown",
   "id": "793baa4f-60e9-460e-90f8-f6d27cdc3957",
   "metadata": {},
   "source": [
    "# Second-Order Warming and Beam\n",
    "## Derivation and Analysis"
   ]
  },
  {
   "cell_type": "code",
   "execution_count": 1,
   "id": "ea8ccb0f-bd5c-4da1-a03a-db4ab0ee7099",
   "metadata": {},
   "outputs": [],
   "source": [
    "import numpy as np\n",
    "from numpy import exp\n",
    "import sympy as sy\n",
    "from sympy.matrices import Matrix, MatrixSymbol\n",
    "from fractions import Fraction as Fr\n",
    "import matplotlib.pyplot as plt\n",
    "from matplotlib import colors\n",
    "from scipy.sparse import diags\n",
    "from scipy.sparse.linalg import spsolve\n",
    "import matplotlib.pyplot as plt\n",
    "import numpy as np\n",
    "# Convension is that symbols start with capital letters"
   ]
  },
  {
   "cell_type": "code",
   "execution_count": 2,
   "id": "b7594318-1ec6-41b0-9f89-d089cc268ca6",
   "metadata": {},
   "outputs": [
    {
     "name": "stdout",
     "output_type": "stream",
     "text": [
      "d/dx = Psi_0/2 - 2*Psi_1 + 3*Psi_2/2 \n",
      "d2/dx2 = Psi_0 - 2*Psi_1 + Psi_2\n",
      "WB2e increment is C**2*Chi2*(Psi_0 - 2*Psi_1 + Psi_2)/2 - C*(Psi_0/2 - 2*Psi_1 + 3*Psi_2/2)\n",
      "WB2e increment as coefficients of grid points is\n",
      " Psi_0*(C**2*Chi2/2 - C/2) + Psi_1*(-C**2*Chi2 + 2*C) + Psi_2*(C**2*Chi2/2 - 3*C/2)\n",
      "WB2i increment is  -C**2*Chi2*(Psi_0 - 2*Psi_1 + Psi_2)/2 - C*(Psi_0/2 - 2*Psi_1 + 3*Psi_2/2)\n",
      "WB2i increment as coefficients of grid points is\n",
      " Psi_0*(-C**2*Chi2/2 - C/2) + Psi_1*(C**2*Chi2 + 2*C) + Psi_2*(-C**2*Chi2/2 - 3*C/2)\n",
      "Amplification factor for WB2 ImEx is \n",
      " ((1 - Alp)*(C**2*Chi2*(1 - 2*exp(-I*Kdx) + exp(-2*I*Kdx))/2 - C*(3/2 - 2*exp(-I*Kdx) + exp(-2*I*Kdx)/2)) + 1)/(-Alp*(-C**2*Chi2*(1 - 2*exp(-I*Kdx) + exp(-2*I*Kdx))/2 - C*(3/2 - 2*exp(-I*Kdx) + exp(-2*I*Kdx)/2)) + 1)\n"
     ]
    }
   ],
   "source": [
    "# Derivation of WB2 using spatial gradients from a quadratic\n",
    "# ax^2 + bx + c  so that ddx = 2ax + b, d2/dx2 = 2a\n",
    "[C, Chi2] = sy.symbols(\"C, Chi2\", real=True)   # The Courant number and the HO limiter\n",
    "Psi = sy.Matrix(sy.symarray(\"Psi\", (3,)))               # Grid point values at i-2,i-1 and i\n",
    "\n",
    "def findDdxD2dx2():\n",
    "    PolyCoeffs = sy.Matrix(sy.symarray(\"PolyCoeffs\", (3,))) # Coefficients a,b,c of the polynomial\n",
    "    polyM = Matrix([[4,-2,1], [1,-1,1], [0,0,1]])\n",
    "    PolyCoeffs = polyM.solve(Psi)\n",
    "    Ddx = PolyCoeffs[1]\n",
    "    D2dx2 = 2*PolyCoeffs[0]\n",
    "    print('d/dx =', Ddx, '\\nd2/dx2 =', D2dx2)\n",
    "    return Ddx, D2dx2\n",
    "\n",
    "WB_Ddx, WB_D2dx2 = findDdxD2dx2()\n",
    "\n",
    "# From this we can work out the explicit WB3e  increment\n",
    "WB2e = - C*WB_Ddx + Chi2*C**2/2*WB_D2dx2\n",
    "print('WB2e increment is', WB2e)\n",
    "print('WB2e increment as coefficients of grid points is\\n', sy.collect(sy.expand(WB2e), Psi))\n",
    "# The implicit WB2i scheme\n",
    "WB2i = - C*WB_Ddx - Chi2*C**2/2*WB_D2dx2\n",
    "print('WB2i increment is ', WB2i)\n",
    "print('WB2i increment as coefficients of grid points is\\n', sy.collect(sy.expand(WB2i), Psi))\n",
    "\n",
    "# The amplification factor for WB2_AdImEx\n",
    "[Kdx, Alp] = sy.symbols(\"Kdx, Alp\", real=True)\n",
    "A_WB2ImEx0 = (1 + (1-Alp)*WB2e)/(1 - Alp*WB2i)\n",
    "A_WB2ImEx = A_WB2ImEx0.subs({Psi[0] : sy.E**(-2*sy.I*Kdx), Psi[1] : sy.E**(-sy.I*Kdx), Psi[2] : 1})\n",
    "print('Amplification factor for WB2 ImEx is \\n', A_WB2ImEx)"
   ]
  }
 ],
 "metadata": {
  "kernelspec": {
   "display_name": "Python 3 (ipykernel)",
   "language": "python",
   "name": "python3"
  },
  "language_info": {
   "codemirror_mode": {
    "name": "ipython",
    "version": 3
   },
   "file_extension": ".py",
   "mimetype": "text/x-python",
   "name": "python",
   "nbconvert_exporter": "python",
   "pygments_lexer": "ipython3",
   "version": "3.12.3"
  }
 },
 "nbformat": 4,
 "nbformat_minor": 5
}

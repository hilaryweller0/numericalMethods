{
 "cells": [
  {
   "cell_type": "markdown",
   "id": "a551077b-a1b5-46a2-8b48-64fa91aae459",
   "metadata": {},
   "source": [
    "# Predictor-Corrector WB2i as a Difference of Fluxes"
   ]
  },
  {
   "cell_type": "code",
   "execution_count": null,
   "id": "663c1411-8e34-40d9-b817-27064bd9a886",
   "metadata": {},
   "outputs": [],
   "source": [
    "#For the LaTeX equations (such as eqnarray) in this document to work, include the following in file\n",
    "#~/.jupyter/_config.yml\n",
    "#\n",
    "#parse:\n",
    "#  myst_enable_extensions:  # default extensions to enable in the myst parser. See https://myst-parser.readthedocs.io/en/latest/using/syntax-optional.html\n",
    "#     - amsmath\n",
    "#\n",
    "#(the default ~/.jupyter/_config.yml will have amsmath commented out)\n",
    "%matplotlib inline\n",
    "import numpy as np\n",
    "from numpy import exp\n",
    "import sympy as sy\n",
    "from sympy import latex\n",
    "from sympy import I   # symbol for sqrt of -1\n",
    "from sympy.matrices import Matrix, MatrixSymbol\n",
    "from fractions import Fraction as Fr\n",
    "import matplotlib.pyplot as plt\n",
    "from matplotlib import colors\n",
    "from scipy.sparse import diags\n",
    "from scipy.sparse.linalg import spsolve"
   ]
  },
  {
   "cell_type": "markdown",
   "id": "fc30e3a6-12c5-4f02-8536-f6b7a476bbf8",
   "metadata": {},
   "source": [
    "## WB2i as fluxes"
   ]
  },
  {
   "cell_type": "code",
   "execution_count": null,
   "id": "ba295b36-33ea-4fc2-99c7-f8e49463096c",
   "metadata": {},
   "outputs": [],
   "source": [
    "# Derivation of WB2 using spatial gradients from a quadratic\n",
    "# ax^2 + bx + c  so that ddx = 2ax + b, d2/dx2 = 2a\n",
    "Psi = sy.Matrix(sy.symarray(\"Ψ\", (3,)), real=True)    # Grid point values at i-2, i-1 and i\n",
    "C = sy.symbols(\"C\", real=True) # The Courant number\n",
    "\n",
    "def findDdxD2dx2():\n",
    "    PolyCoeffs = sy.Matrix(sy.symarray(\"PolyCoeffs\", (3,))) # Coefficients a,b,c of the polynomial\n",
    "    polyM = Matrix([[4,-2,1], [1,-1,1], [0,0,1]])\n",
    "    PolyCoeffs = polyM.solve(sy.Matrix(Psi))\n",
    "    Ddx = PolyCoeffs[1]\n",
    "    D2dx2 = 2*PolyCoeffs[0]\n",
    "    return Ddx, D2dx2\n",
    "\n",
    "WB_Ddx, WB_D2dx2 = findDdxD2dx2()\n",
    "\n",
    "# From this we can work out WB2i\n",
    "WB2i = sy.collect(sy.expand(- C*WB_Ddx - C**2/2*WB_D2dx2), Psi)\n",
    "print('WB2i = ', WB2i)\n",
    "\n",
    "# Find Ψ_l and Ψ_r so that WB2i = -Ψ_r + Ψ_l\n",
    "WB2iR = WB2i # The residual of WB2i after removal of -Ψ_r + Ψ_l\n",
    "[WBil, WBir] = sy.symbols(\"WBil, WBi4\", real=True)\n",
    "WBil = WBir = sy.S.Zero\n",
    "for j in range(2):\n",
    "    WBil = WBil + Psi[j]*WB2iR.coeff(Psi[j])\n",
    "    WBir = WBir + Psi[j+1]*WB2iR.coeff(Psi[j])\n",
    "    WB2iR = sy.collect(sy.expand(WB2i + WBir - WBil), Psi)\n",
    "\n",
    "print('Residual =', WB2iR, '\\nThe right flux is')\n",
    "WBir"
   ]
  },
  {
   "cell_type": "markdown",
   "id": "e7f1e562-6ca0-4930-8504-978da77318b6",
   "metadata": {},
   "source": [
    "## WB2i as a predictor-corrector scheme"
   ]
  },
  {
   "cell_type": "code",
   "execution_count": null,
   "id": "2e5a8335-9c5d-4ca7-b79c-3caea44aea92",
   "metadata": {},
   "outputs": [],
   "source": [
    "WBrCorr = sy.collect(sy.expand(WBir - C*Psi[2]), Psi)\n",
    "WBlCorr = sy.collect(sy.expand(WBil - C*Psi[1]), Psi)\n",
    "WBlCorr"
   ]
  },
  {
   "cell_type": "markdown",
   "id": "f87072fd-e0b3-4506-b537-3014a2b3204e",
   "metadata": {},
   "source": [
    "## Amplification Factor"
   ]
  },
  {
   "cell_type": "code",
   "execution_count": null,
   "id": "4a18ca7d-3dcb-4805-9bb6-87e752fb03f8",
   "metadata": {},
   "outputs": [],
   "source": [
    "[Kdx, Alp] = sy.symbols(\"Kdx, Alp\", real=True)\n",
    "Acorr = WBrCorr - WBlCorr\n",
    "Acorr = Acorr.subs({Psi[0] : sy.E**(-2*sy.I*Kdx), Psi[1] : sy.E**(-sy.I*Kdx), Psi[2] : 1})\n",
    "Aup = 1/(1 + C*(1 - sy.E**(-sy.I*Kdx)))\n",
    "# A series of amplification factors for increasing iteration count, m\n",
    "A = sy.symarray(\"A\", 8)\n",
    "A[0] = sy.S.One\n",
    "for m in range(1, len(A)):\n",
    "    A[m] = Aup*(1 - A[m-1]*Acorr)\n",
    "\n",
    "# A for fully implicit (to checkU)\n",
    "Ai = 1/(1 + C*(1 - sy.E**(-sy.I*Kdx)) + Acorr)"
   ]
  },
  {
   "cell_type": "code",
   "execution_count": null,
   "id": "bd6f671e-bcc0-40cb-b4ea-dfcf2e7d5730",
   "metadata": {},
   "outputs": [],
   "source": [
    "# Plots of |A| for 6 each iterations\n",
    "kdxs = np.linspace(1e-6, 2*np.pi, 37)\n",
    "cs = np.arange(0, 5.1, 0.1)\n",
    "magA = np.zeros([len(kdxs), len(cs)])\n",
    "for m in range(1,7):\n",
    "    i = (m-1)%3\n",
    "    if i == 0:\n",
    "        fig,axs = plt.subplots(1,3, figsize=(12,4), layout='constrained')\n",
    "        fig.suptitle(\"Predictor-Corrector Warming and Beam Amplification Factor Magnitudes\")    \n",
    "    A_WB = sy.lambdify([C, Kdx], A[m], 'numpy')\n",
    "    for ic in range(len(cs)):\n",
    "        co = cs[ic]\n",
    "        for ik in range(len(kdxs)):\n",
    "            kdx = kdxs[ik]\n",
    "            magA[ik,ic] = abs(A_WB(co, kdx))\n",
    "    axplot = axs[i].contourf(cs, kdxs,magA, np.arange(0, 2.1, 0.1))\n",
    "    axs[i].axvline(x=1, color=\"black\", linestyle=\":\")\n",
    "    axs[i].axvline(x=2, color=\"black\", linestyle=\":\")\n",
    "    fig.colorbar(axplot,ax=axs[i], orientation='horizontal')\n",
    "    axs[i].contour(cs, kdxs, magA, [0, 1], colors=['k', 'k'])\n",
    "    axs[i].set(xlabel=r'$c$', ylabel=r'$k\\Delta x$', title = str(m)+' iterations')\n",
    "\n",
    "    if m%3 == 0:\n",
    "        plt.show()\n",
    "\n",
    "# Fully implicit scheme\n",
    "Ai_WB = sy.lambdify([C,Kdx], Ai, 'numpy')\n",
    "for ic in range(len(cs)):\n",
    "    co = cs[ic]\n",
    "    for ik in range(len(kdxs)):\n",
    "        kdx = kdxs[ik]\n",
    "        magA[ik,ic] = abs(Ai_WB(co, kdx))\n",
    "plt.contourf(cs, kdxs,magA, np.arange(0, 2.1, 0.1))\n",
    "plt.axvline(x=1, color=\"black\", linestyle=\":\")\n",
    "plt.axvline(x=2, color=\"black\", linestyle=\":\")\n",
    "plt.colorbar(orientation='horizontal')\n",
    "plt.contour(cs, kdxs, magA, [0, 1], colors=['k', 'k'])\n",
    "plt.xlabel(r'$c$')\n",
    "plt.ylabel(r'$k\\Delta x$')\n",
    "plt.title(\"Fully implicit\")\n",
    "plt.show()"
   ]
  },
  {
   "cell_type": "code",
   "execution_count": null,
   "id": "4deb37fc-c0d8-4784-bffd-f8cc0aec5bcc",
   "metadata": {},
   "outputs": [],
   "source": [
    "# The PC version is always most unstable for kdx=pi\n",
    "# so work out the limiting for the HO correction for kdx = pi\n",
    "\n",
    "Chi = sy.symbols(\"Chi\", real=True) # HO limiter\n",
    "Acorr = Chi*(WBrCorr - WBlCorr)\n",
    "Acorr = Acorr.subs({Psi[0] : sy.E**(-2*sy.I*Kdx), Psi[1] : sy.E**(-sy.I*Kdx), Psi[2] : 1})\n",
    "Acorr = Acorr.subs({Kdx: sy.pi})\n",
    "Aup = 1/(1 + C*(1 - sy.E**(-sy.I*sy.pi)))\n",
    "# A series of amplification factors for increasing iteration count, m\n",
    "A = sy.symarray(\"A\", 8)\n",
    "A[0] = sy.S.One\n",
    "for m in range(1, len(A)):\n",
    "    A[m] = Aup*(1 - A[m-1]*Acorr)\n",
    "\n",
    "# Plot A for each iteration for kdx = pi\n",
    "chis = np.arange(0, 1.01, 0.1)\n",
    "magA = np.zeros([len(chis), len(cs)])\n",
    "for m in range(1,7):\n",
    "    i = (m-1)%3\n",
    "    if i == 0:\n",
    "        fig,axs = plt.subplots(1,3, figsize=(12,4), layout='constrained')\n",
    "        fig.suptitle(\"Predictor-Corrector Warming and Beam Amplification Factor Magnitudes\")    \n",
    "    A_WB = sy.lambdify([C, Chi], A[m], 'numpy')\n",
    "    for ic in range(len(cs)):\n",
    "        co = cs[ic]\n",
    "        for ich in range(len(chis)):\n",
    "            chi = chis[ich]\n",
    "            magA[ich,ic] = abs(A_WB(co, chi))\n",
    "    axplot = axs[i].contourf(cs, chis,magA, np.arange(0, 2.1, 0.1))\n",
    "    axs[i].axvline(x=1, color=\"black\", linestyle=\":\")\n",
    "    axs[i].axvline(x=2, color=\"black\", linestyle=\":\")\n",
    "    fig.colorbar(axplot,ax=axs[i], orientation='horizontal')\n",
    "    axs[i].contour(cs, chis, magA, [0, 1], colors=['k', 'k'])\n",
    "    axs[i].set(xlabel=r'$c$', ylabel=r'$\\chi$', title = str(m)+' iterations')\n",
    "    \n",
    "    if m%3 == 0:\n",
    "        plt.show()"
   ]
  }
 ],
 "metadata": {
  "kernelspec": {
   "display_name": "Python 3 (ipykernel)",
   "language": "python",
   "name": "python3"
  },
  "language_info": {
   "codemirror_mode": {
    "name": "ipython",
    "version": 3
   },
   "file_extension": ".py",
   "mimetype": "text/x-python",
   "name": "python",
   "nbconvert_exporter": "python",
   "pygments_lexer": "ipython3",
   "version": "3.12.3"
  }
 },
 "nbformat": 4,
 "nbformat_minor": 5
}

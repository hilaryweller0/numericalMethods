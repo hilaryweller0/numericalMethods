{
 "cells": [
  {
   "cell_type": "markdown",
   "id": "f7639d86-2ba7-46fb-a7ff-a3e9c59f0e64",
   "metadata": {},
   "source": [
    "# LW4e as a Difference of Fluxes"
   ]
  },
  {
   "cell_type": "code",
   "execution_count": 1,
   "id": "663c1411-8e34-40d9-b817-27064bd9a886",
   "metadata": {},
   "outputs": [],
   "source": [
    "#For the LaTeX equations (such as eqnarray) in this document to work, include the following in file\n",
    "#~/.jupyter/_config.yml\n",
    "#\n",
    "#parse:\n",
    "#  myst_enable_extensions:  # default extensions to enable in the myst parser. See https://myst-parser.readthedocs.io/en/latest/using/syntax-optional.html\n",
    "#     - amsmath\n",
    "#\n",
    "#(the default ~/.jupyter/_config.yml will have amsmath commented out)\n",
    "import numpy as np\n",
    "from numpy import exp\n",
    "import sympy as sy\n",
    "from sympy import latex\n",
    "from sympy import I   # symbol for sqrt of -1\n",
    "from sympy.matrices import Matrix, MatrixSymbol\n",
    "from fractions import Fraction as Fr\n",
    "import matplotlib.pyplot as plt\n",
    "from matplotlib import colors\n",
    "from scipy.sparse import diags\n",
    "from scipy.sparse.linalg import spsolve\n",
    "import matplotlib.pyplot as plt"
   ]
  },
  {
   "cell_type": "markdown",
   "id": "f896bb22-5b27-4c92-8f6d-84ba513ba8c0",
   "metadata": {},
   "source": [
    "## Derivation of LW4e\n",
    "Using spatial gradients from a quartic polynomial. If\n",
    "\\begin{eqnarray}\n",
    "\\psi &=& ax^4 + bx^3 + cx^2 + dx + e\n",
    "\\end{eqnarray}\n",
    "then\n",
    "\\begin{eqnarray}\n",
    "\\frac{\\partial\\psi}{\\partial x} &=& 4ax^3 + 3bx^2 + 2cx + d \\\\\n",
    "\\frac{\\partial^2\\psi}{\\partial x^2} &=& 12ax^2 + 6bx + 2c \\\\\n",
    "\\frac{\\partial^3\\psi}{\\partial x^3} &=& 24ax + 6b \\\\\n",
    "\\frac{\\partial^4\\psi}{\\partial x^4} &=& 24a\n",
    "\\end{eqnarray}\n",
    "Assuming $\\Delta x=1$, we know\n",
    "\\begin{eqnarray}\n",
    "\\psi_{i-2} = \\psi_0 &=& 2^4 a - 2^3 b + 2^2 c - 2 d + e \\\\\n",
    "\\psi_{i-1} = \\psi_1 &=& a - b + c - d + e \\\\\n",
    "\\psi_{i} = \\psi_2 &=& e \\\\\n",
    "\\psi_{i+1} = \\psi_3 &=& a+b+c+d+e \\\\\n",
    "\\psi_{i+2} = \\psi_4 &=& 2^4 a + 2^3 b + 2^2 c + 2 d + e \\\\\n",
    "\\end{eqnarray}\n",
    "So $(a,b,c,d,e)$ is the solution of the matrix equation\n",
    "\\begin{equation*}\n",
    "\\left( \\begin{array}{ccccc}\n",
    "2^4 & -2^3 & 2^2 & -2 & 1 \\\\\n",
    "1 & -1 & 1 & -1 & 1 \\\\\n",
    "0 & 0 & 0 & 0 & 1 \\\\\n",
    "1 & 1 & 1 & 1 & 1 \\\\\n",
    "2^4 & 2^3 & 2^2 & 2 & 1 \\\\\n",
    "\\end{array} \\right) \n",
    "\\left( \\begin{array}{c}\n",
    "a \\\\ b \\\\ c \\\\ d \\\\ e\n",
    "\\end{array} \\right) \n",
    "=\n",
    "\\left( \\begin{array}{c}\n",
    "\\psi_0 \\\\ \\psi_1 \\\\ \\psi_2 \\\\ \\psi_3 \\\\ \\psi_4\n",
    "\\end{array} \\right) \n",
    "\\end{equation*}"
   ]
  },
  {
   "cell_type": "code",
   "execution_count": 2,
   "id": "99e23972-df47-4e8b-9877-2f7ffcea52d8",
   "metadata": {},
   "outputs": [
    {
     "name": "stdout",
     "output_type": "stream",
     "text": [
      "LW4e increment is C**4*(Ψ_0 - 4*Ψ_1 + 6*Ψ_2 - 4*Ψ_3 + Ψ_4)/24 - C**3*(-Ψ_0/2 + Ψ_1 - Ψ_3 + Ψ_4/2)/6 + C**2*(-Ψ_0/12 + 4*Ψ_1/3 - 5*Ψ_2/2 + 4*Ψ_3/3 - Ψ_4/12)/2 - C*(Ψ_0/12 - 2*Ψ_1/3 + 2*Ψ_3/3 - Ψ_4/12)\n",
      "LW4e increment as coefficients of grid points is\n"
     ]
    },
    {
     "data": {
      "text/latex": [
       "$\\displaystyle Ψ_{0} \\left(\\frac{C^{4}}{24} + \\frac{C^{3}}{12} - \\frac{C^{2}}{24} - \\frac{C}{12}\\right) + Ψ_{1} \\left(- \\frac{C^{4}}{6} - \\frac{C^{3}}{6} + \\frac{2 C^{2}}{3} + \\frac{2 C}{3}\\right) + Ψ_{2} \\left(\\frac{C^{4}}{4} - \\frac{5 C^{2}}{4}\\right) + Ψ_{3} \\left(- \\frac{C^{4}}{6} + \\frac{C^{3}}{6} + \\frac{2 C^{2}}{3} - \\frac{2 C}{3}\\right) + Ψ_{4} \\left(\\frac{C^{4}}{24} - \\frac{C^{3}}{12} - \\frac{C^{2}}{24} + \\frac{C}{12}\\right)$"
      ],
      "text/plain": [
       "Ψ_0*(C**4/24 + C**3/12 - C**2/24 - C/12) + Ψ_1*(-C**4/6 - C**3/6 + 2*C**2/3 + 2*C/3) + Ψ_2*(C**4/4 - 5*C**2/4) + Ψ_3*(-C**4/6 + C**3/6 + 2*C**2/3 - 2*C/3) + Ψ_4*(C**4/24 - C**3/12 - C**2/24 + C/12)"
      ]
     },
     "execution_count": 2,
     "metadata": {},
     "output_type": "execute_result"
    }
   ],
   "source": [
    "# The sympy symbols\n",
    "PolyCoeffs = sy.Matrix(sy.symarray(\"PolyCoeffs\", (5,))) # Coefficients a,b,c,d,e of the polynomial\n",
    "Psi = sy.Matrix(sy.symarray(\"Ψ\", (5,)), real=True)    # Grid point values at i-2, i-1, i, i+1 and i+2\n",
    "polyM = Matrix([[2**4,-2**3,2**2,-2,1], [1,-1,1,-1,1], [0,0,0,0,1], [1,1,1,1,1],\n",
    "                [2**4,2**3,2**2,2,1]])\n",
    "PolyCoeffs = polyM.solve(Psi)\n",
    "Ddx = PolyCoeffs[3]\n",
    "D2dx2 = 2*PolyCoeffs[2]\n",
    "D3dx3 = 6*PolyCoeffs[1]\n",
    "D4dx4 = 24*PolyCoeffs[0]\n",
    "# From the gradients we get the explicit LW4e  increment based on the Courant number\n",
    "C = sy.symbols(\"C\", real=True)\n",
    "LW4e = - C*Ddx + C**2/2*D2dx2 - C**3/6*D3dx3 + C**4/24*D4dx4\n",
    "print('LW4e increment is', LW4e)\n",
    "print('LW4e increment as coefficients of grid points is')\n",
    "LW4e = sy.collect(sy.expand(LW4e), Psi)\n",
    "LW4e\n",
    "#print(latex(LW4e))"
   ]
  },
  {
   "cell_type": "code",
   "execution_count": 4,
   "id": "a62fbae5-d410-42ea-a029-879029daaa7f",
   "metadata": {},
   "outputs": [
    {
     "name": "stdout",
     "output_type": "stream",
     "text": [
      "Residual = 0 \n",
      "The right flux is\n"
     ]
    },
    {
     "data": {
      "text/latex": [
       "$\\displaystyle Ψ_{1} \\left(\\frac{C^{4}}{24} + \\frac{C^{3}}{12} - \\frac{C^{2}}{24} - \\frac{C}{12}\\right) + Ψ_{2} \\left(- \\frac{C^{4}}{8} - \\frac{C^{3}}{12} + \\frac{5 C^{2}}{8} + \\frac{7 C}{12}\\right) + Ψ_{3} \\left(\\frac{C^{4}}{8} - \\frac{C^{3}}{12} - \\frac{5 C^{2}}{8} + \\frac{7 C}{12}\\right) + Ψ_{4} \\left(- \\frac{C^{4}}{24} + \\frac{C^{3}}{12} + \\frac{C^{2}}{24} - \\frac{C}{12}\\right)$"
      ],
      "text/plain": [
       "Ψ_1*(C**4/24 + C**3/12 - C**2/24 - C/12) + Ψ_2*(-C**4/8 - C**3/12 + 5*C**2/8 + 7*C/12) + Ψ_3*(C**4/8 - C**3/12 - 5*C**2/8 + 7*C/12) + Ψ_4*(-C**4/24 + C**3/12 + C**2/24 - C/12)"
      ]
     },
     "execution_count": 4,
     "metadata": {},
     "output_type": "execute_result"
    }
   ],
   "source": [
    "# Find Ψ_l and Ψ_r so that LW4e = -Ψ_r + Ψ_l\n",
    "LW4eR = LW4e # The residual of LW4e after removal of -Ψ_r + Ψ_l\n",
    "[Psil, Psir] = sy.symbols(\"Ψ_l, Ψ_r\", real=True)\n",
    "Psil = Psir = sy.S.Zero\n",
    "for j in range(len(Psi)-1):\n",
    "    Psil = Psil + Psi[j]*LW4eR.coeff(Psi[j])\n",
    "    Psir = Psir + Psi[j+1]*LW4eR.coeff(Psi[j])\n",
    "    LW4eR = sy.collect(sy.expand(LW4e + Psir - Psil), Psi)\n",
    "\n",
    "print('Residual =', LW4eR, '\\nThe right flux is')\n",
    "Psir"
   ]
  }
 ],
 "metadata": {
  "kernelspec": {
   "display_name": "Python 3 (ipykernel)",
   "language": "python",
   "name": "python3"
  },
  "language_info": {
   "codemirror_mode": {
    "name": "ipython",
    "version": 3
   },
   "file_extension": ".py",
   "mimetype": "text/x-python",
   "name": "python",
   "nbconvert_exporter": "python",
   "pygments_lexer": "ipython3",
   "version": "3.12.3"
  }
 },
 "nbformat": 4,
 "nbformat_minor": 5
}

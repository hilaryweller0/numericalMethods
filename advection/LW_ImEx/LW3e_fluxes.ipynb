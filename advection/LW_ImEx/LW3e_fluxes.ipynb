{
 "cells": [
  {
   "cell_type": "markdown",
   "id": "f7639d86-2ba7-46fb-a7ff-a3e9c59f0e64",
   "metadata": {},
   "source": [
    "# LW3e as a Difference of Fluxes"
   ]
  },
  {
   "cell_type": "code",
   "execution_count": 1,
   "id": "663c1411-8e34-40d9-b817-27064bd9a886",
   "metadata": {},
   "outputs": [],
   "source": [
    "#For the LaTeX equations (such as eqnarray) in this document to work, include the following in file\n",
    "#~/.jupyter/_config.yml\n",
    "#\n",
    "#parse:\n",
    "#  myst_enable_extensions:  # default extensions to enable in the myst parser. See https://myst-parser.readthedocs.io/en/latest/using/syntax-optional.html\n",
    "#     - amsmath\n",
    "#\n",
    "#(the default ~/.jupyter/_config.yml will have amsmath commented out)\n",
    "import numpy as np\n",
    "from numpy import exp\n",
    "import sympy as sy\n",
    "from sympy import latex\n",
    "from sympy import I   # symbol for sqrt of -1\n",
    "from sympy.matrices import Matrix, MatrixSymbol\n",
    "from fractions import Fraction as Fr\n",
    "import matplotlib.pyplot as plt\n",
    "from matplotlib import colors\n",
    "from scipy.sparse import diags\n",
    "from scipy.sparse.linalg import spsolve\n",
    "import matplotlib.pyplot as plt"
   ]
  },
  {
   "cell_type": "markdown",
   "id": "f896bb22-5b27-4c92-8f6d-84ba513ba8c0",
   "metadata": {},
   "source": [
    "## Derivation of LW3e\n",
    "Using spatial gradients from a cubic polynomial"
   ]
  },
  {
   "cell_type": "code",
   "execution_count": 2,
   "id": "99e23972-df47-4e8b-9877-2f7ffcea52d8",
   "metadata": {},
   "outputs": [
    {
     "name": "stdout",
     "output_type": "stream",
     "text": [
      "LW3e increment is -C**3*(-Ψ_0 + 3*Ψ_1 - 3*Ψ_2 + Ψ_3)/6 + C**2*(Ψ_1 - 2*Ψ_2 + Ψ_3)/2 - C*(Ψ_0/6 - Ψ_1 + Ψ_2/2 + Ψ_3/3)\n",
      "LW3e increment as coefficients of grid points is\n"
     ]
    },
    {
     "data": {
      "text/latex": [
       "$\\displaystyle Ψ_{0} \\left(\\frac{C^{3}}{6} - \\frac{C}{6}\\right) + Ψ_{1} \\left(- \\frac{C^{3}}{2} + \\frac{C^{2}}{2} + C\\right) + Ψ_{2} \\left(\\frac{C^{3}}{2} - C^{2} - \\frac{C}{2}\\right) + Ψ_{3} \\left(- \\frac{C^{3}}{6} + \\frac{C^{2}}{2} - \\frac{C}{3}\\right)$"
      ],
      "text/plain": [
       "Ψ_0*(C**3/6 - C/6) + Ψ_1*(-C**3/2 + C**2/2 + C) + Ψ_2*(C**3/2 - C**2 - C/2) + Ψ_3*(-C**3/6 + C**2/2 - C/3)"
      ]
     },
     "execution_count": 2,
     "metadata": {},
     "output_type": "execute_result"
    }
   ],
   "source": [
    "# The sympy symbols\n",
    "PolyCoeffs = sy.Matrix(sy.symarray(\"PolyCoeffs\", (4,))) # Coefficients a,b,c,d of the polynomial\n",
    "Psi = sy.Matrix(sy.symarray(\"Ψ\", (4,)), real=True)    # Grid point values at i-2, i-1, i and i+1\n",
    "polyM = Matrix([[-8,4,-2,1], [-1,1,-1,1], [0,0,0,1], [1,1,1,1]])\n",
    "PolyCoeffs = polyM.solve(Psi)\n",
    "Ddx = PolyCoeffs[2]\n",
    "D2dx2 = 2*PolyCoeffs[1]\n",
    "D3dx3 = 6*PolyCoeffs[0]\n",
    "# From the gradients we get the explicit LW3e  increment based on the Courant number\n",
    "C = sy.symbols(\"C\", real=True)\n",
    "LW3e = - C*Ddx + C**2/2*D2dx2 - C**3/6*D3dx3\n",
    "print('LW3e increment is', LW3e)\n",
    "print('LW3e increment as coefficients of grid points is')\n",
    "LW3e = sy.collect(sy.expand(LW3e), Psi)\n",
    "LW3e\n",
    "#print(latex(LW3e))"
   ]
  },
  {
   "cell_type": "markdown",
   "id": "7707270c-2b72-4d8c-a685-5afebce7b323",
   "metadata": {},
   "source": [
    "## LW3e as fluxes"
   ]
  },
  {
   "cell_type": "code",
   "execution_count": 5,
   "id": "a62fbae5-d410-42ea-a029-879029daaa7f",
   "metadata": {},
   "outputs": [
    {
     "name": "stdout",
     "output_type": "stream",
     "text": [
      "Residual = 0 \n",
      "The right flux is\n"
     ]
    },
    {
     "data": {
      "text/latex": [
       "$\\displaystyle Ψ_{1} \\left(\\frac{C^{3}}{6} - \\frac{C}{6}\\right) + Ψ_{2} \\left(- \\frac{C^{3}}{3} + \\frac{C^{2}}{2} + \\frac{5 C}{6}\\right) + Ψ_{3} \\left(\\frac{C^{3}}{6} - \\frac{C^{2}}{2} + \\frac{C}{3}\\right)$"
      ],
      "text/plain": [
       "Ψ_1*(C**3/6 - C/6) + Ψ_2*(-C**3/3 + C**2/2 + 5*C/6) + Ψ_3*(C**3/6 - C**2/2 + C/3)"
      ]
     },
     "execution_count": 5,
     "metadata": {},
     "output_type": "execute_result"
    }
   ],
   "source": [
    "# Find Ψ_l and Ψ_r so that LW3e = -Ψ_r + Ψ_l\n",
    "LW3eR = LW3e # The residual of LW3e after removal of -Ψ_r + Ψ_l\n",
    "[Psil, Psir] = sy.symbols(\"Ψ_l, Ψ_r\", real=True)\n",
    "Psil = Psir = sy.S.Zero\n",
    "for j in range(len(Psi)-1):\n",
    "    Psil = Psil + Psi[j]*LW3eR.coeff(Psi[j])\n",
    "    Psir = Psir + Psi[j+1]*LW3eR.coeff(Psi[j])\n",
    "    LW3eR = sy.collect(sy.expand(LW3e + Psir - Psil), Psi)\n",
    "\n",
    "print('Residual =', LW3eR, '\\nThe right flux is')\n",
    "Psir"
   ]
  }
 ],
 "metadata": {
  "kernelspec": {
   "display_name": "Python 3 (ipykernel)",
   "language": "python",
   "name": "python3"
  },
  "language_info": {
   "codemirror_mode": {
    "name": "ipython",
    "version": 3
   },
   "file_extension": ".py",
   "mimetype": "text/x-python",
   "name": "python",
   "nbconvert_exporter": "python",
   "pygments_lexer": "ipython3",
   "version": "3.12.3"
  }
 },
 "nbformat": 4,
 "nbformat_minor": 5
}

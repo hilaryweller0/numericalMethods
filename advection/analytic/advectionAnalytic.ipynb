{
 "cells": [
  {
   "cell_type": "code",
   "execution_count": 41,
   "id": "b1b5cd45-8749-4fda-9264-75f0e4bb45bd",
   "metadata": {},
   "outputs": [],
   "source": [
    "from sympy import *\n",
    "x,t,a,b,k,l = symbols('x,t,a,b,k,l', positive=True, real=True)\n",
    "u = 1 + sin(l*x)\n",
    "rho = 1/u*exp(k*(t-integrate(1/u,x)))"
   ]
  },
  {
   "cell_type": "code",
   "execution_count": 43,
   "id": "c518938f-6d92-47dc-8ea8-00666ab9c9a3",
   "metadata": {},
   "outputs": [
    {
     "data": {
      "text/latex": [
       "$\\displaystyle \\frac{e^{k \\left(t + \\frac{2}{l \\tan{\\left(\\frac{l x}{2} \\right)} + l}\\right)}}{\\sin{\\left(l x \\right)} + 1}$"
      ],
      "text/plain": [
       "exp(k*(t + 2/(l*tan(l*x/2) + l)))/(sin(l*x) + 1)"
      ]
     },
     "execution_count": 43,
     "metadata": {},
     "output_type": "execute_result"
    }
   ],
   "source": [
    "rho"
   ]
  },
  {
   "cell_type": "code",
   "execution_count": 47,
   "id": "92b92742-5475-49fe-8648-26867e445784",
   "metadata": {},
   "outputs": [],
   "source": [
    "I=exp(integrate(l*t*cos(x)/(a+l*t*sin(x)), x))\n",
    "Q = -l*sin(x)/(a + l*t*sin(x))\n",
    "u = 1/I*integrate(I*Q,x)"
   ]
  },
  {
   "cell_type": "code",
   "execution_count": 49,
   "id": "31021a7b-de7d-405f-b194-6ef43ba2b251",
   "metadata": {},
   "outputs": [
    {
     "data": {
      "text/latex": [
       "$\\displaystyle \\frac{\\cos{\\left(x \\right)}}{t \\left(\\frac{a}{l t} + \\sin{\\left(x \\right)}\\right)}$"
      ],
      "text/plain": [
       "cos(x)/(t*(a/(l*t) + sin(x)))"
      ]
     },
     "execution_count": 49,
     "metadata": {},
     "output_type": "execute_result"
    }
   ],
   "source": [
    "u"
   ]
  }
 ],
 "metadata": {
  "kernelspec": {
   "display_name": "Python 3 (ipykernel)",
   "language": "python",
   "name": "python3"
  },
  "language_info": {
   "codemirror_mode": {
    "name": "ipython",
    "version": 3
   },
   "file_extension": ".py",
   "mimetype": "text/x-python",
   "name": "python",
   "nbconvert_exporter": "python",
   "pygments_lexer": "ipython3",
   "version": "3.12.3"
  }
 },
 "nbformat": 4,
 "nbformat_minor": 5
}

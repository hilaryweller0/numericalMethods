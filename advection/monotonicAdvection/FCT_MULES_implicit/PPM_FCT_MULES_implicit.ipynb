{
 "cells": [
  {
   "cell_type": "markdown",
   "id": "9e5fcf98-4081-4a6a-95ea-69b68ca32270",
   "metadata": {},
   "source": [
    "# PPM with implicit FCT\n",
    "Apply FCT with implicit upwind to PPM with a large time step. \n",
    "The first application of FCT should use an implicit upwind method for the bounded solution. FCT then creates a bounded correction of PPM. This can be used as the bounded solution to apply FCT again to the PPM solution. Will this process converge to a more accurate bounded solution?"
   ]
  },
  {
   "cell_type": "code",
   "execution_count": 1,
   "id": "8996afea-71c1-480e-b84d-70ee850303ad",
   "metadata": {},
   "outputs": [],
   "source": [
    "%load_ext autoreload\n",
    "%autoreload 2\n",
    "import numpy as np\n",
    "import matplotlib.pyplot as plt\n",
    "import matplotlib\n",
    "import fluidfoam as foam\n",
    "from initialConditions import *\n",
    "from advectionSchemes import *\n",
    "from fluxLimiters.fluxLimiters import *\n",
    "matplotlib.rcParams['figure.dpi'] = 600\n",
    "matplotlib.rcParams['figure.figsize'] =(8, 6)"
   ]
  },
  {
   "cell_type": "code",
   "execution_count": null,
   "id": "72fee0d0-4b6c-4567-84cf-704f4fd0c742",
   "metadata": {},
   "outputs": [],
   "source": [
    "# Function for schemes comparisions\n",
    "\n",
    "def compareSchemes(params, fluxes, options, labels, OFcases = [], OFtimes=[], OFfields=[],\n",
    "                    OFlabels = []):\n",
    "    \"\"\"Solve the advection equation for various schemes and plot the results\n",
    "    params: dict with entries \"nt\", \"nx\", \"c\", \"initialConditions\", \"title\", \"fileName\"\n",
    "    fluxes: List of flux functions\n",
    "    options: List of dictionaries to send to the flux functions\n",
    "    labels:  Labels for the legend of the graph for each flux function\n",
    "    \"\"\"\n",
    "    dt = params[\"c\"]/params[\"nx\"]\n",
    "    dx = 1/params[\"nx\"]\n",
    "    print('Solving the advection equation for', dt*params[\"nt\"],\n",
    "          'revolutions of a periodic domain with spatial resolution', dx)\n",
    "    x = np.arange(0,1, dx)\n",
    "    phi0 = params[\"initialConditions\"](x)\n",
    "    phiE = params[\"initialConditions\"]((x-dt*params[\"nt\"])%1)\n",
    "    #fig,ax = plt.subplots(1,2, figsize=(12,4), layout='constrained')\n",
    "    #fig.sup\n",
    "    plt.title(params[\"title\"]+'\\nc = '+str(round(params[\"c\"],2))+' nx = '\n",
    "              +str(params[\"nx\"]) + ' nt = '+str(params[\"nt\"]))\n",
    "    plt.plot(x, phi0, 'k--', label = 't=0')\n",
    "    plt.plot(x, phiE, 'k', label='t='+str(round(dt*params[\"nt\"],2)))\n",
    "    plt.axhline(y=0, color='k', ls=':', lw=0.5)\n",
    "    plt.axhline(y=1, color='k', ls=':', lw=0.5)\n",
    "\n",
    "    # Run all the schemes and plot the results\n",
    "    lines = ['k-o', 'r-+', 'b-x', 'g--s', 'c--', 'm:', 'k:', 'r:', 'b:', 'c:', 'g:']\n",
    "    for flux, name, option, line in zip(fluxes, labels, options, lines):\n",
    "        phi = phi0.copy()\n",
    "        for it in range(params[\"nt\"]):\n",
    "            phi = advect(phi, params[\"c\"], flux, options=option)\n",
    "        plt.plot(x, phi, line, label=name)\n",
    "        #ax[1].plot(x, phi - phiE, label=name)\n",
    "\n",
    "    # Add the OpenFOAM results\n",
    "    lines = lines[len(fluxes):-1]\n",
    "    for case, time, field, label, line in zip(OFcases, OFtimes,OFfields,OFlabels,lines):\n",
    "        phi = foam.readscalar(case, str(time), field)\n",
    "        plt.plot(x, phi, line, label=label)\n",
    "    \n",
    "    plt.legend()#bbox_to_anchor=(1.1, 1))\n",
    "    #ax[0].set(ylabel=r'$\\psi$', title = 'Totals', xlim=[0,1])\n",
    "    #ax[1].set(ylabel='Error', title = 'Errors', xlim=[0,1])\n",
    "    plt.xlim([0,1])\n",
    "    plt.savefig(params[\"fileName\"])\n",
    "    plt.show()\n",
    "\n",
    "# calculate the number of time steps from the number of revolutions, nx and c\n",
    "nt = lambda nRevs, nx, c : int(nRevs*nx/c)\n"
   ]
  },
  {
   "cell_type": "code",
   "execution_count": null,
   "id": "5b18d3aa-7cd7-4f64-b0fe-b75cc9195d49",
   "metadata": {},
   "outputs": [],
   "source": [
    "# Explicit PPM with FCT and  MULES\n",
    "compareSchemes(\n",
    "    {\"nt\": nt(1,40,.4), \"nx\":40, \"c\":0.4, \"initialConditions\":combi,\n",
    "     \"title\": \"Explicit PPM Advection with FCT/MULES\",\n",
    "     \"fileName\": \"plots/PPM_c04_FCT_MULES.pdf\"},\n",
    "    [FCT, FCT, MULES, MULES, PPMflux],\n",
    "    [{\"nCorr\": 1}, {\"nCorr\": 2},\n",
    "     {\"nCorr\": 1}, {\"nCorr\": 2}, {}],\n",
    "    ['with 1 FCT', 'with 2 FCT', 'with 1 MULES1', 'with 2 MULES1', 'PPM'])\n"
   ]
  },
  {
   "cell_type": "code",
   "execution_count": null,
   "id": "60962e09-4f83-4cab-8fa2-1f815da24244",
   "metadata": {},
   "outputs": [],
   "source": [
    "# Explicit Centred differences with FCT and  MULES (not explicit)\n",
    "compareSchemes(\n",
    "    {\"nt\": nt(1,40,.4), \"nx\":40, \"c\":0.4, \"initialConditions\":combi,\n",
    "     \"title\": r'Centred differences with FCT/MULES with $\\alpha=\\frac{1}{2}$ for CD',\n",
    "     \"fileName\": \"plots/CD_c04_FCT_MULES.pdf\"},\n",
    "    [FCT, FCT, MULES, MULES, CDFlux],\n",
    "    [{'HO': CDFlux, \"nCorr\": 1, \"explicit\": False, \"alpha\": 0.5},\n",
    "     {'HO': CDFlux, \"nCorr\": 2, \"explicit\": False, \"alpha\": 0.5},\n",
    "     {'HO': CDFlux, \"nCorr\": 1, \"explicit\": False, \"alpha\": 0.5},\n",
    "     {'HO': CDFlux, \"nCorr\": 2, \"explicit\": False, \"alpha\": 0.5},\n",
    "     {\"explicit\": False, \"alpha\": 0.5}],\n",
    "    ['CD with 1 FCT', 'CD with 2 FCT', 'CD with 1 MULES', 'CD with 2 MULES', \n",
    "     r'CD with $\\alpha=\\frac{1}{2}$'])"
   ]
  },
  {
   "cell_type": "code",
   "execution_count": null,
   "id": "738f2dbb-e40d-4828-a05b-ac334411edd1",
   "metadata": {},
   "outputs": [],
   "source": [
    "# Explicit quasi-cubic with FCT and MULES (not explicit)\n",
    "compareSchemes(\n",
    "    {\"nt\" : nt(1,40,.4), \"nx\": 40, \"c\": 0.4, \"initialConditions\": combi,\n",
    "     \"title\": r'Quasi-cubic with FCT/MULES with $\\alpha=\\frac{1}{2}$ for qC',\n",
    "     \"fileName\": \"plots/qC_c04_FCT_MULES.pdf\"},\n",
    "    [FCT, FCT, FCT, FCT, FCT, FCT, FCT, FCT, MULES, MULES, quasiCubicFlux],\n",
    "    [{\"nCorr\": 1, \"HO\": quasiCubicFlux, \"explicit\": False, \"alpha\": 0.5},\n",
    "     {\"nCorr\": 2, \"HO\": quasiCubicFlux, \"explicit\": False, \"alpha\": 0.5},\n",
    "     {\"nCorr\": 3, \"HO\": quasiCubicFlux, \"explicit\": False, \"alpha\": 0.5},\n",
    "     {\"nCorr\": 4, \"HO\": quasiCubicFlux, \"explicit\": False, \"alpha\": 0.5},\n",
    "     {\"nCorr\": 5, \"HO\": quasiCubicFlux, \"explicit\": False, \"alpha\": 0.5},\n",
    "     {\"nCorr\": 6, \"HO\": quasiCubicFlux, \"explicit\": False, \"alpha\": 0.5},\n",
    "     {\"nCorr\": 7, \"HO\": quasiCubicFlux, \"explicit\": False, \"alpha\": 0.5},\n",
    "     {\"nCorr\": 8, \"HO\": quasiCubicFlux, \"explicit\": False, \"alpha\": 0.5},\n",
    "     {\"nCorr\": 1, \"HO\": quasiCubicFlux, \"explicit\": False, \"alpha\": 0.5},\n",
    "     {\"nCorr\": 2, \"HO\": quasiCubicFlux, \"explicit\": False, \"alpha\": 0.5},\n",
    "     {\"explicit\": False, \"alpha\": 0.5}],\n",
    "    ['with 1 FCT', 'with 2 FCT', 'with 3 FCT', 'with 4 FCT', 'with 5 FCT', 'with 6 FCT', \n",
    "     'with 7 FCT', 'with 8 FCT', \n",
    "     'with 1 MULES', 'with 2 MULES', r'cubic, $\\alpha=0.5$'])"
   ]
  },
  {
   "cell_type": "code",
   "execution_count": null,
   "id": "411c212a-e4f1-4727-9032-3e07eabbf905",
   "metadata": {},
   "outputs": [],
   "source": [
    "# Explicit linear upwind with FCT and MULES (not explicit)\n",
    "compareSchemes(\n",
    "    {\"nt\" : nt(1,40,.4), \"nx\": 40, \"c\": 0.4, \"initialConditions\": combi,\n",
    "     \"title\": r'Linear-upwind with FCT/MULES with $\\alpha=\\frac{1}{2}$ for qC',\n",
    "     \"fileName\": \"plots/lu_c04_FCT_MULES.pdf\"},\n",
    "    [FCT, FCT, MULES, MULES, linearUpwindFlux],\n",
    "    [{\"nCorr\": 1, \"HO\": linearUpwindFlux, \"explicit\": False, \"alpha\": 0.5},\n",
    "     {\"nCorr\": 2, \"HO\": linearUpwindFlux, \"explicit\": False, \"alpha\": 0.5},\n",
    "     {\"nCorr\": 1, \"HO\": linearUpwindFlux, \"explicit\": False, \"alpha\": 0.5},\n",
    "     {\"nCorr\": 2, \"HO\": linearUpwindFlux, \"explicit\": False, \"alpha\": 0.5},\n",
    "     {\"explicit\": False, \"alpha\": 0.5}],\n",
    "    ['with 1 FCT', 'with 2 FCT', 'with 1 MULES', \n",
    "     'with 2 MULES', r'linear uwpind, $\\alpha=0.5$'])"
   ]
  },
  {
   "cell_type": "code",
   "execution_count": null,
   "id": "5513a702-ec26-4f8a-a4d5-040f3e742115",
   "metadata": {},
   "outputs": [],
   "source": [
    "# PPM with iterations of implicit, monotonic FCT with c = 1.4\n",
    "compareSchemes(\n",
    "    {\"nt\": 28, \"nx\":40, \"c\":40/28, \"initialConditions\":combi,\n",
    "     \"title\": \"Implicit Advection with FCT\",\n",
    "     \"fileName\": \"plots/PPM_c14_FCT.pdf\"},\n",
    "    [PPMflux, upwindFlux, FCT, FCT, FCT],\n",
    "    [{}, {}, {\"nCorr\": 1}, {\"nCorr\": 2}, {\"nCorr\": 3}],\n",
    "    ['PPM', 'upwind', 'PPM with 1 FCT', 'PPM with 2 FCT', 'PPM with 3 FCT'])"
   ]
  },
  {
   "cell_type": "code",
   "execution_count": null,
   "id": "c3155d9a-85d2-4577-aeb6-98b3f1e0a384",
   "metadata": {},
   "outputs": [],
   "source": [
    "# PPM with iterations of implicit, monotonic MULES with c = 1.4\n",
    "compareSchemes(\n",
    "    {\"nt\": 28, \"nx\":40, \"c\":40/28, \"initialConditions\":combi,\n",
    "     \"title\": \"Implicit Advection with MULES\",\n",
    "     \"fileName\": \"plots/PPM_c14_MULES.pdf\"},\n",
    "    [PPMflux, upwindFlux, MULES, MULES, MULES],\n",
    "    [{}, {}, {\"nCorr\": 1}, {\"nCorr\": 2}, {\"nCorr\": 3,  \"MULES\": True}],\n",
    "    ['PPM', 'upwind', 'PPM with 1 MULES', 'PPM with 2 MULES', 'PPM with 3 MULES'])"
   ]
  },
  {
   "cell_type": "code",
   "execution_count": null,
   "id": "4e6b0bd0-a514-4a51-b72a-6edebabd54df",
   "metadata": {},
   "outputs": [],
   "source": [
    "# PPM with iterations of implicit, monotonic FCT with c = 2.4\n",
    "compareSchemes(\n",
    "    {\"nt\": 32, \"nx\":80, \"c\":80/32, \"initialConditions\":combi,\n",
    "     \"title\": \"Implicit Advection with FCT\",\n",
    "     \"fileName\": \"plots/PPM_c24_FCT.pdf\"},\n",
    "    [PPMflux, upwindFlux, FCT, FCT, FCT, FCT, FCT, FCT],\n",
    "    [{}, {}, {\"nCorr\": 1}, {\"nCorr\": 2}, {\"nCorr\": 3}, {\"nCorr\": 4}, {\"nCorr\": 5},\n",
    "     {\"nCorr\": 6}],\n",
    "    ['PPM', 'upwind', 'PPM with 1 FCT', 'PPM with 2 FCT', 'PPM with 3 FCT',\n",
    "     'PPM with 4 FCT', 'PPM with 5 FCT', 'PPM with 6 FCT'])"
   ]
  },
  {
   "cell_type": "code",
   "execution_count": null,
   "id": "93f5a42d-696a-4b30-829e-59909aaf7438",
   "metadata": {},
   "outputs": [],
   "source": [
    "# PPM with iterations of implicit, monotonic MULES with c = 2.4\n",
    "compareSchemes(\n",
    "    {\"nt\": 32, \"nx\":80, \"c\":80/32, \"initialConditions\":combi,\n",
    "     \"title\": \"Implicit Advection with MULES\",\n",
    "     \"fileName\": \"plots/PPM_c24_MULES.pdf\"},\n",
    "    [PPMflux, upwindFlux, MULES, MULES, MULES, MULES, MULES, MULES],\n",
    "    [{}, {}, {\"nCorr\": 1}, {\"nCorr\": 2}, {\"nCorr\": 3}, {\"nCorr\": 4},  {\"nCorr\": 5},{\"nCorr\": 6}],\n",
    "    ['PPM', 'upwind', 'PPM with 1 MULES', 'PPM with 2 MULES', 'PPM with 3 MULES',\n",
    "     'PPM with 4 MULES', 'PPM with 5 MULES', 'PPM with 6 MULES'])"
   ]
  },
  {
   "cell_type": "code",
   "execution_count": null,
   "id": "39196b4a-ad02-4a97-9f30-502f2b772aab",
   "metadata": {},
   "outputs": [],
   "source": [
    "# PPM with iterations of 2 versions of MULES\n",
    "compareSchemes(\n",
    "    {\"nt\": 1, \"nx\":40, \"c\":40/16, \"initialConditions\":combi,\n",
    "     \"title\": \"Advection with MULES\",\n",
    "     \"fileName\": \"plots/PPM_c24_MULES_2.pdf\"},\n",
    "    [MULES, MULES, MULES, MULES],\n",
    "    [{\"nCorr\": 1}, {\"nCorr\": 2}, \n",
    "     {\"nCorr\": 1, \"safeStart\": True},  {\"nCorr\": 2, \"safeStart\": True}],\n",
    "    ['PPM with 1 MULES', 'PPM with 2 MULES', \n",
    "     'PPM with 1 MULES2', 'PPM with 2 MULES2'])"
   ]
  },
  {
   "cell_type": "code",
   "execution_count": null,
   "id": "6c693133-fdb7-490f-a131-dfb634de7d6d",
   "metadata": {},
   "outputs": [],
   "source": [
    "# CD with iterations of 2 versions of MULES and FCT\n",
    "from fluxLimiters.fluxLimiters import *\n",
    "compareSchemes(\n",
    "    {\"nt\": 1, \"nx\":40, \"c\":40/16, \"initialConditions\":halfWave,\n",
    "     \"title\": \"Advection with Central Differencing\",\n",
    "     \"fileName\": \"plots/CD_c25_MULES_2.pdf\"},\n",
    "    [MULES, MULES, FCT, FCT, FCT, FCT],\n",
    "    [{\"HO\": CDFlux, \"nCorr\": 2}, \n",
    "     {\"HO\": CDFlux, \"nCorr\": 2, \"safeStart\": True},\n",
    "     {\"HO\": CDFlux, \"nCorr\": 1}, {\"HO\": CDFlux, \"nCorr\": 2},\n",
    "     {\"HO\": CDFlux, \"nCorr\": 3}, {\"HO\": CDFlux, \"nCorr\": 4}],\n",
    "    ['CD with 2 MULES', 'CD with 2 MULES2', \n",
    "     'CD with 1 FCT', 'CD with 2 FCT', 'CD with 3 FCT', 'CD with 4 FCT'])"
   ]
  },
  {
   "cell_type": "code",
   "execution_count": null,
   "id": "7c267a5e-2804-46c4-8b30-9ea708561289",
   "metadata": {},
   "outputs": [],
   "source": [
    "from advectionSchemes import *\n",
    "from fluxLimiters.fluxLimiters import *\n",
    "compareSchemes(\n",
    "    {\"nt\": 1, \"nx\":40, \"c\":40/16, \"initialConditions\":halfWave,\n",
    "     \"title\": \"Advection with Central Differencing\",\n",
    "     \"fileName\": \"plots/CD_c25.pdf\"},\n",
    "    [FCT, FCT, MULES, MULES],\n",
    "    [{\"HO\": CDFlux, \"nCorr\": 1}, {\"HO\": CDFlux, \"nCorr\": 2}, \n",
    "     {\"HO\": CDFlux, \"nCorr\": 2}, {\"HO\": CDFlux, \"nCorr\": 2, \"safeStart\": True}],\n",
    "    ['CD with 1 FCT', 'CD with 2 FCT',\n",
    "     'CD with 2 MULES', 'CD with 2 MULES2'],\n",
    "    OFcases = ['/home/hilary/OpenFOAM/hilary-dev/run/advection/halfWave'],\n",
    "    OFtimes=[0.0625], OFfields=['T'], OFlabels = ['OpenFOAM MULES'])"
   ]
  },
  {
   "cell_type": "code",
   "execution_count": null,
   "id": "ad2baba8-655a-4ad3-8f89-0f24ae39dfa4",
   "metadata": {},
   "outputs": [],
   "source": [
    "# Comparison with Amber's results on doubleFCT.py\n",
    "compareSchemes(\n",
    "    {\"nt\" : int(100/6.25), \"nx\": 40, \"c\": 2.5, \"initialConditions\": combi,\n",
    "     \"title\": \"Quasi-cubic advection with Trapezoidal-implicit\",\n",
    "     \"fileName\": \"plots/qC_c2p5_FCT.pdf\"},\n",
    "    [quasiCubicFlux, FCT, FCT, FCT, FCT, FCT, FCT],\n",
    "    [{\"explicit\": False, \"alpha\": 0.5},\n",
    "     {\"nCorr\": 1, \"HO\": quasiCubicFlux, \"explicit\": False, \"alpha\": 0.5},\n",
    "     {\"nCorr\": 2, \"HO\": quasiCubicFlux, \"explicit\": False, \"alpha\": 0.5},\n",
    "     {\"nCorr\": 3, \"HO\": quasiCubicFlux, \"explicit\": False, \"alpha\": 0.5},\n",
    "     {\"nCorr\": 4, \"HO\": quasiCubicFlux, \"explicit\": False, \"alpha\": 0.5},\n",
    "     {\"nCorr\": 5, \"HO\": quasiCubicFlux, \"explicit\": False, \"alpha\": 0.5},\n",
    "     {\"nCorr\": 6, \"HO\": quasiCubicFlux, \"explicit\": False, \"alpha\": 0.5}],\n",
    "    [r'cubic, $\\alpha=0.5$', 'with 1 FCT', 'with 2 FCT', 'with 3 FCT', \n",
    "     'with 4 FCT', 'with 5 FCT', 'with 6 FCT'])"
   ]
  }
 ],
 "metadata": {
  "kernelspec": {
   "display_name": "Python 3 (ipykernel)",
   "language": "python",
   "name": "python3"
  },
  "language_info": {
   "codemirror_mode": {
    "name": "ipython",
    "version": 3
   },
   "file_extension": ".py",
   "mimetype": "text/x-python",
   "name": "python",
   "nbconvert_exporter": "python",
   "pygments_lexer": "ipython3",
   "version": "3.12.3"
  }
 },
 "nbformat": 4,
 "nbformat_minor": 5
}

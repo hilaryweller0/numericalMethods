{
 "cells": [
  {
   "cell_type": "markdown",
   "id": "9e5fcf98-4081-4a6a-95ea-69b68ca32270",
   "metadata": {},
   "source": [
    "# PPM with implicit FCT and MULES\n",
    "Apply FCT and MULES to PPM with a large time step. \n",
    "The first application of FCT should use an implicit upwind method for the bounded solution. FCT then creates a bounded correction of PPM. This can be used as the bounded solution to apply FCT again to the PPM solution. Will this process converge to a more accurate bounded solution?"
   ]
  },
  {
   "cell_type": "code",
   "execution_count": null,
   "id": "8996afea-71c1-480e-b84d-70ee850303ad",
   "metadata": {},
   "outputs": [],
   "source": [
    "%load_ext autoreload\n",
    "%autoreload 2\n",
    "%matplotlib inline\n",
    "import numpy as np\n",
    "import matplotlib.pyplot as plt\n",
    "import matplotlib\n",
    "import fluidfoam as foam\n",
    "from initialConditions import *\n",
    "from advectionSchemes import *\n",
    "from fluxLimiters.fluxLimiters import *\n",
    "matplotlib.rcParams['figure.dpi'] = 300\n",
    "matplotlib.rcParams['figure.figsize'] =(8, 6)"
   ]
  },
  {
   "cell_type": "code",
   "execution_count": null,
   "id": "ba05143d-f8fe-4660-a2f3-e9fbb0ed0bfb",
   "metadata": {},
   "outputs": [],
   "source": [
    "nx = 40\n",
    "x = np.arange(0,1,1/nx)\n",
    "phi = halfWave(x)\n",
    "phiJ = advect(phi, 2.5, upwindFlux, options={'Jacobi': True, 'alpha': 1})\n",
    "phiU = advect(phi, 2.5, upwindFlux, options={'alpha': 1})\n",
    "plt.plot(x, phi, label='t=0')\n",
    "plt.plot(x, phiJ, label='Jacobi')\n",
    "plt.plot(x, phiU, label='Upwind')\n",
    "plt.legend()\n",
    "plt.show()"
   ]
  },
  {
   "cell_type": "code",
   "execution_count": null,
   "id": "72fee0d0-4b6c-4567-84cf-704f4fd0c742",
   "metadata": {},
   "outputs": [],
   "source": [
    "# Function for schemes comparisions\n",
    "\n",
    "def compareSchemes(params, fluxes, options, labels, OFcases = [], OFtimes=[], OFfields=[],\n",
    "                    OFlabels = []):\n",
    "    \"\"\"Solve the advection equation for various schemes and plot the results\n",
    "    params: dict with entries \"nt\", \"nx\", \"c\", \"initialConditions\", \"title\", \"fileName\"\n",
    "    fluxes: List of flux functions\n",
    "    options: List of dictionaries to send to the flux functions\n",
    "    labels:  Labels for the legend of the graph for each flux function\n",
    "    \"\"\"\n",
    "    dt = params[\"c\"]/params[\"nx\"]\n",
    "    dx = 1/params[\"nx\"]\n",
    "    print('Solving the advection equation for', dt*params[\"nt\"],\n",
    "          'revolutions of a periodic domain with spatial resolution', dx)\n",
    "    x = np.arange(0,1, dx)\n",
    "    phi0 = params[\"initialConditions\"](x)\n",
    "    phiE = params[\"initialConditions\"]((x-dt*params[\"nt\"])%1)\n",
    "    #fig,ax = plt.subplots(1,2, figsize=(12,4), layout='constrained')\n",
    "    #fig.sup\n",
    "    plt.title(params[\"title\"]+'\\nc = '+str(round(params[\"c\"],2))+' nx = '\n",
    "              +str(params[\"nx\"]) + ' nt = '+str(params[\"nt\"]))\n",
    "    plt.plot(x, phi0, 'k--', label = 't=0')\n",
    "    plt.plot(x, phiE, 'k', label='t='+str(round(dt*params[\"nt\"],2)))\n",
    "    plt.axhline(y=0, color='k', ls=':', lw=0.5)\n",
    "    plt.axhline(y=1, color='k', ls=':', lw=0.5)\n",
    "\n",
    "    # Run all the schemes and plot the results\n",
    "    lines = ['k-o', 'r-+', 'b-x', 'g--s', 'c--', 'm:', 'k:', 'r:', 'b:', 'c:', 'g:']\n",
    "    for flux, name, option, line in zip(fluxes, labels, options, lines):\n",
    "        phi = phi0.copy()\n",
    "        for it in range(params[\"nt\"]):\n",
    "            phi = advect(phi, params[\"c\"], flux, options=option)\n",
    "        plt.plot(x, phi, line, label=name)\n",
    "        #ax[1].plot(x, phi - phiE, label=name)\n",
    "\n",
    "    # Add the OpenFOAM results\n",
    "    lines = lines[len(fluxes):-1]\n",
    "    for case, time, field, label, line in zip(OFcases, OFtimes,OFfields,OFlabels,lines):\n",
    "        phi = foam.readscalar(case, str(time), field)\n",
    "        plt.plot(x, phi, line, label=label)\n",
    "    \n",
    "    plt.legend()#bbox_to_anchor=(1.1, 1))\n",
    "    #ax[0].set(ylabel=r'$\\psi$', title = 'Totals', xlim=[0,1])\n",
    "    #ax[1].set(ylabel='Error', title = 'Errors', xlim=[0,1])\n",
    "    plt.xlim([0,1])\n",
    "    plt.savefig(params[\"fileName\"])\n",
    "    plt.show()\n",
    "\n",
    "# calculate the number of time steps from the number of revolutions, nx and c\n",
    "nt = lambda nRevs, nx, c : int(nRevs*nx/c)\n"
   ]
  },
  {
   "cell_type": "code",
   "execution_count": null,
   "id": "21461cf8-a0db-4ddd-bc42-c5a56285940b",
   "metadata": {},
   "outputs": [],
   "source": [
    "# Explicit cubic, quintic and FCT\n",
    "compareSchemes(\n",
    "    {\"nt\": nt(1,7,.02), \"nx\":7, \"c\":0.02, \"initialConditions\":fullWave,\n",
    "     \"title\": \"Explicit PPM Advection with FCT\",\n",
    "     \"fileName\": \"plots/PPM_cubic_quintic.pdf\"},\n",
    "    [PPMflux, quasiCubicFlux, quasiQuinticFlux],\n",
    "    [{\"nCorr\": 0}, {\"nCorr\": 0}, {\"nCorr\": 0}],\n",
    "    [\"PPM\", \"cubic\", \"quintic\"])"
   ]
  },
  {
   "cell_type": "code",
   "execution_count": null,
   "id": "5b18d3aa-7cd7-4f64-b0fe-b75cc9195d49",
   "metadata": {},
   "outputs": [],
   "source": [
    "# Explicit PPM with FCT\n",
    "compareSchemes(\n",
    "    {\"nt\": nt(1,40,.4), \"nx\":40, \"c\":0.4, \"initialConditions\":combi,\n",
    "     \"title\": \"Explicit PPM Advection with FCT\",\n",
    "     \"fileName\": \"plots/PPM_c04_FCT.pdf\"},\n",
    "    [FCT, FCT, PPMflux],\n",
    "    [{\"nCorr\": 1}, {\"nCorr\": 2}, {}],\n",
    "    ['with 1 FCT', 'with 2 FCT', 'PPM'])\n"
   ]
  },
  {
   "cell_type": "code",
   "execution_count": null,
   "id": "5513a702-ec26-4f8a-a4d5-040f3e742115",
   "metadata": {},
   "outputs": [],
   "source": [
    "# PPM with iterations of implicit, monotonic FCT with c = 1.4\n",
    "compareSchemes(\n",
    "    {\"nt\": 28, \"nx\":40, \"c\":40/28, \"initialConditions\":combi,\n",
    "     \"title\": \"Implicit Advection with FCT\",\n",
    "     \"fileName\": \"plots/PPM_c14_FCT.pdf\"},\n",
    "    [PPMflux, upwindFlux, FCT, FCT, FCT],\n",
    "    [{}, {}, {\"nCorr\": 1}, {\"nCorr\": 2}, {\"nCorr\": 3}],\n",
    "    ['PPM', 'upwind', 'PPM with 1 FCT', 'PPM with 2 FCT', 'PPM with 3 FCT'])"
   ]
  },
  {
   "cell_type": "code",
   "execution_count": null,
   "id": "4e6b0bd0-a514-4a51-b72a-6edebabd54df",
   "metadata": {},
   "outputs": [],
   "source": [
    "# PPM with iterations of implicit, monotonic FCT with c = 2.4\n",
    "compareSchemes(\n",
    "    {\"nt\": 32, \"nx\":80, \"c\":80/32, \"initialConditions\":combi,\n",
    "     \"title\": \"Implicit Advection with FCT\",\n",
    "     \"fileName\": \"plots/PPM_c24_FCT.pdf\"},\n",
    "    [PPMflux, upwindFlux, FCT, FCT, FCT, FCT, FCT, FCT],\n",
    "    [{}, {}, {\"nCorr\": 1}, {\"nCorr\": 2}, {\"nCorr\": 3}, {\"nCorr\": 4}, {\"nCorr\": 5},\n",
    "     {\"nCorr\": 6}],\n",
    "    ['PPM', 'upwind', 'PPM with 1 FCT', 'PPM with 2 FCT', 'PPM with 3 FCT',\n",
    "     'PPM with 4 FCT', 'PPM with 5 FCT', 'PPM with 6 FCT'])"
   ]
  },
  {
   "cell_type": "code",
   "execution_count": null,
   "id": "25bd5efa-8bd0-4857-a8e0-ee7e640d716c",
   "metadata": {},
   "outputs": [],
   "source": [
    "# PPM with iterations of implicit, monotonic FCT with c = 3.6\n",
    "compareSchemes(\n",
    "    {\"nt\": 22, \"nx\":80, \"c\":80/22, \"initialConditions\":combi,\n",
    "     \"title\": \"Implicit Advection with FCT\",\n",
    "     \"fileName\": \"plots/PPM_c36_FCT.pdf\"},\n",
    "    [PPMflux, upwindFlux, FCT, FCT, FCT, FCT, FCT, MULES],\n",
    "    [{}, {}, {\"nCorr\": 1}, {\"nCorr\": 2}, {\"nCorr\": 3}, {\"nCorr\": 4}, {\"nCorr\": 5},\n",
    "     {\"nCorr\": 2}],\n",
    "    ['PPM', 'upwind', 'PPM with 1 FCT', 'PPM with 2 FCT', 'PPM with 3 FCT',\n",
    "     'PPM with 4 FCT', 'PPM with 5 FCT', 'PPM with 2 MULES'])"
   ]
  },
  {
   "cell_type": "code",
   "execution_count": null,
   "id": "d64b4f57-d427-4b96-bd9e-574f8fc336fa",
   "metadata": {},
   "outputs": [],
   "source": [
    "# PPM with iterations of implicit, monotonic FCT[0,1] with c = 3.6\n",
    "compareSchemes(\n",
    "    {\"nt\": 22, \"nx\":80, \"c\":80/22, \"initialConditions\":combi,\n",
    "     \"title\": \"Implicit Advection with FCT and MULES [0,1]\",\n",
    "     \"fileName\": \"plots/PPM_c36_FCT01.pdf\"},\n",
    "    [PPMflux, FCT, FCT, FCT, FCT, FCT, MULES],\n",
    "    [{}, {\"nCorr\": 1, \"minPhi\":0, \"maxPhi\":1},\n",
    "             {\"nCorr\": 2, \"minPhi\":0, \"maxPhi\":1},\n",
    "             {\"nCorr\": 3, \"minPhi\":0, \"maxPhi\":1},\n",
    "             {\"nCorr\": 4, \"minPhi\":0, \"maxPhi\":1},\n",
    "             {\"nCorr\": 5, \"minPhi\":0, \"maxPhi\":1},\n",
    "             {\"nCorr\": 2, \"minPhi\":0, \"maxPhi\":1}],\n",
    "    ['PPM', 'PPM with 1 FCT', 'PPM with 2 FCT', 'PPM with 3 FCT',\n",
    "     'PPM with 4 FCT', 'PPM with 5 FCT', 'PPM with 2 MULES'])"
   ]
  },
  {
   "cell_type": "code",
   "execution_count": null,
   "id": "12442b53-fc5c-4931-b1d7-b89961071049",
   "metadata": {},
   "outputs": [],
   "source": [
    "# PPM with iterations of implicit, monotonic FCT[0,] with c = 3.6\n",
    "compareSchemes(\n",
    "    {\"nt\": 22, \"nx\":80, \"c\":80/22, \"initialConditions\":combi,\n",
    "     \"title\": \"Implicit Advection with FCT[0,-]\",\n",
    "     \"fileName\": \"plots/PPM_c36_FCT0-.pdf\"},\n",
    "    [PPMflux, FCT, FCT, FCT, FCT],\n",
    "    [{}, {\"nCorr\": 1, \"minPhi\":0, \"maxPhi\":1000},\n",
    "             {\"nCorr\": 2, \"minPhi\":0, \"maxPhi\":1000},\n",
    "             {\"nCorr\": 3, \"minPhi\":0, \"maxPhi\":1000},\n",
    "             {\"nCorr\": 4, \"minPhi\":0, \"maxPhi\":1000}],\n",
    "    ['PPM', 'PPM with 1 FCT', 'PPM with 2 FCT', 'PPM with 3 FCT',\n",
    "     'PPM with 4 FCT'])"
   ]
  },
  {
   "cell_type": "code",
   "execution_count": null,
   "id": "8bea8d45-20a5-412d-af94-2ea785721d93",
   "metadata": {},
   "outputs": [],
   "source": [
    "# PPM with iterations of Jacobi implicit, monotonic FCT[0,] with c = 3.6\n",
    "compareSchemes(\n",
    "    {\"nt\": 22, \"nx\":80, \"c\":80/22, \"initialConditions\":combi,\n",
    "     \"title\": \"Implicit Advection with FCT[0,-]\",\n",
    "     \"fileName\": \"plots/PPM_c36_J_FCT0-.pdf\"},\n",
    "    [PPMflux, FCT, FCT, FCT, FCT],\n",
    "    [{}, {\"nCorr\": 1, \"minPhi\":0, \"maxPhi\":1000, \"Jacobi\": True},\n",
    "             {\"nCorr\": 2, \"minPhi\":0, \"maxPhi\":1000, \"Jacobi\": True},\n",
    "             {\"nCorr\": 3, \"minPhi\":0, \"maxPhi\":1000, \"Jacobi\": True},\n",
    "             {\"nCorr\": 4, \"minPhi\":0, \"maxPhi\":1000, \"Jacobi\": True}],\n",
    "    ['PPM', 'PPM with 1 FCT', 'PPM with 2 FCT', 'PPM with 3 FCT',\n",
    "     'PPM with 4 FCT'])"
   ]
  },
  {
   "cell_type": "code",
   "execution_count": null,
   "id": "ad2baba8-655a-4ad3-8f89-0f24ae39dfa4",
   "metadata": {},
   "outputs": [],
   "source": [
    "# Comparison with Amber's results on doubleFCT.py\n",
    "compareSchemes(\n",
    "    {\"nt\" : int(100/6.25), \"nx\": 40, \"c\": 2.5, \"initialConditions\": combi,\n",
    "     \"title\": \"Quasi-cubic advection with Trapezoidal-implicit\",\n",
    "     \"fileName\": \"plots/qC_c2p5_FCT.pdf\"},\n",
    "    [quasiCubicFlux, FCT, FCT, FCT, FCT, FCT, FCT],\n",
    "    [{\"explicit\": False, \"alpha\": 0.5},\n",
    "     {\"nCorr\": 1, \"HO\": quasiCubicFlux, \"explicit\": False, \"alpha\": 0.5},\n",
    "     {\"nCorr\": 2, \"HO\": quasiCubicFlux, \"explicit\": False, \"alpha\": 0.5},\n",
    "     {\"nCorr\": 3, \"HO\": quasiCubicFlux, \"explicit\": False, \"alpha\": 0.5},\n",
    "     {\"nCorr\": 4, \"HO\": quasiCubicFlux, \"explicit\": False, \"alpha\": 0.5},\n",
    "     {\"nCorr\": 5, \"HO\": quasiCubicFlux, \"explicit\": False, \"alpha\": 0.5},\n",
    "     {\"nCorr\": 6, \"HO\": quasiCubicFlux, \"explicit\": False, \"alpha\": 0.5}],\n",
    "    [r'cubic, $\\alpha=0.5$', 'with 1 FCT', 'with 2 FCT', 'with 3 FCT', \n",
    "     'with 4 FCT', 'with 5 FCT', 'with 6 FCT'])"
   ]
  }
 ],
 "metadata": {
  "kernelspec": {
   "display_name": "Python 3 (ipykernel)",
   "language": "python",
   "name": "python3"
  },
  "language_info": {
   "codemirror_mode": {
    "name": "ipython",
    "version": 3
   },
   "file_extension": ".py",
   "mimetype": "text/x-python",
   "name": "python",
   "nbconvert_exporter": "python",
   "pygments_lexer": "ipython3",
   "version": "3.12.3"
  }
 },
 "nbformat": 4,
 "nbformat_minor": 5
}

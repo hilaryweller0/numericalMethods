{
 "cells": [
  {
   "cell_type": "markdown",
   "id": "9e5fcf98-4081-4a6a-95ea-69b68ca32270",
   "metadata": {},
   "source": [
    "# Derivation of a Quasi-Quintic Divergence\n",
    "## Plan\n",
    "- Find a finite difference approximation for $\\partial\\Psi/\\partial x$\n",
    "- Express this as a differences of fluxes\n",
    "- Express using local gradients"
   ]
  },
  {
   "cell_type": "code",
   "execution_count": 1,
   "id": "8996afea-71c1-480e-b84d-70ee850303ad",
   "metadata": {},
   "outputs": [],
   "source": [
    "%reload_ext autoreload\n",
    "%autoreload 2\n",
    "%matplotlib inline"
   ]
  },
  {
   "cell_type": "code",
   "execution_count": 2,
   "id": "64873b1f-854a-4c54-a1a0-aaa031f36999",
   "metadata": {},
   "outputs": [],
   "source": [
    "import numpy as np\n",
    "import matplotlib.pyplot as plt\n",
    "import sympy as sy\n",
    "from sympy import latex\n",
    "from sympy.matrices import Matrix, MatrixSymbol\n",
    "from fractions import Fraction as Fr\n",
    "from sympy import I, E, pi, Q"
   ]
  },
  {
   "cell_type": "markdown",
   "id": "e8171953-611d-4907-9754-0b7618ac5361",
   "metadata": {},
   "source": [
    "## Quintic finite difference approximation for $\\partial\\Psi/\\partial x$\n",
    "Assume that $\\Psi$ follows a quintic polynomial:\n",
    "\\begin{eqnarray}\n",
    "\\psi &=& ax^5 + bx^4 + cx^3 + dx^2 + ex + f\n",
    "\\end{eqnarray}\n",
    "with $\\Delta x=1$ and $x=0$ at $j=0$. We know solutions\n",
    "\\begin{eqnarray}\n",
    "\\psi_{j-3} = \\psi_0 &=& (-3)^5 a + (-3)^4 b + (-3)^3 c + (-3)^2 d - 3e + f \\\\\n",
    "\\psi_{j-2} = \\psi_1 &=& (-2)^5 a + (-2)^4 b + (-2)^3 c + (-2)^2 d - 2e + f \\\\\n",
    "\\psi_{j-1} = \\psi_2 &=& -a + b - c + d - e + f \\\\\n",
    "\\psi_{j}   = \\psi_3 &=& f \\\\\n",
    "\\psi_{j+1} = \\psi_4 &=& a + b + c + d + e + f \\\\\n",
    "\\psi_{j+2} = \\psi_5 &=& 2^5 a + 2^4 b + 2^3 c + 2^2 d + 2e + f\n",
    "\\end{eqnarray}\n",
    "So $(a,b,c,d,e,f)$ is the solution of the matrix equation\n",
    "\\begin{equation*}\n",
    "\\left( \\begin{array}{cccccc}\n",
    "-3^5 & 3^4 & -3^3 & 3^2 & -3 & 1 \\\\\n",
    "-2^5 & 2^4 & -2^3 & 2^2 & -2 & 1 \\\\\n",
    "-1   & 1 & -1 & 1 & -1 & 1 \\\\\n",
    "0 & 0 & 0 & 0 & 0 & 1 \\\\\n",
    "1 & 1 & 1 & 1 & 1 & 1 \\\\\n",
    "2^5 & 2^4 & 2^3 & 2^2 & 2 & 1 \\\\\n",
    "\\end{array} \\right) \n",
    "\\left( \\begin{array}{c}\n",
    "a \\\\ b \\\\ c \\\\ d \\\\ e \\\\ f\n",
    "\\end{array} \\right) \n",
    "=\n",
    "\\left( \\begin{array}{c}\n",
    "\\psi_0 \\\\ \\psi_1 \\\\ \\psi_2 \\\\ \\psi_3 \\\\ \\psi_4 \\\\ \\psi_5\n",
    "\\end{array} \\right) \n",
    "\\end{equation*}\n",
    "We only need an expression for \n",
    "\\begin{equation*}\n",
    "\\partial\\Psi/\\partial x_j = e\n",
    "\\end{equation*}"
   ]
  },
  {
   "cell_type": "code",
   "execution_count": 8,
   "id": "83226be2-7a63-4068-9281-6b4ead04dc90",
   "metadata": {},
   "outputs": [
    {
     "data": {
      "text/latex": [
       "$\\displaystyle \\frac{- \\frac{Ψ_{0}}{30} + \\frac{Ψ_{1}}{4} - Ψ_{2} + \\frac{Ψ_{3}}{3} + \\frac{Ψ_{4}}{2} - \\frac{Ψ_{5}}{20}}{Δx}$"
      ],
      "text/plain": [
       "(-Ψ_0/30 + Ψ_1/4 - Ψ_2 + Ψ_3/3 + Ψ_4/2 - Ψ_5/20)/Δx"
      ]
     },
     "execution_count": 8,
     "metadata": {},
     "output_type": "execute_result"
    }
   ],
   "source": [
    "# Find the finite differene gradient\n",
    "# Coefficients a,b,c,d,e,f of the polynomial\n",
    "PolyCoeffs = sy.Matrix(sy.symarray(\"PolyCoeffs\", (6,)))\n",
    "# Grid point values at j-3,j-2, j-1, j, j+1 and j+2\n",
    "Psi = sy.Matrix(sy.symarray(\"Ψ\", (6,)), real=True)\n",
    "Dx = sy.symbols(\"Δx\", real=True)\n",
    "polyM = Matrix([[-3**5, 3**4, -3**3, 3**2,-3,1],\n",
    "                [-2**5, 2**4, -2**3, 2**2,-2,1],\n",
    "                [-1,1,-1,1,-1,1],\n",
    "                [0,0,0,0,0,1],\n",
    "                [1,1,1,1,1,1],\n",
    "                [2**5, 2**4, 2**3, 2**2, 2, 1]])\n",
    "PolyCoeffs = polyM.solve(Psi)\n",
    "Ddx = PolyCoeffs[4]/Dx\n",
    "Ddx\n",
    "#print(latex(Ddx))"
   ]
  },
  {
   "cell_type": "code",
   "execution_count": 9,
   "id": "09a09ff6-a9b7-4515-a2ab-8d01f0ad1719",
   "metadata": {},
   "outputs": [
    {
     "name": "stdout",
     "output_type": "stream",
     "text": [
      "Residual = 0 \n",
      "The right flux is\n"
     ]
    },
    {
     "data": {
      "text/latex": [
       "$\\displaystyle \\frac{Ψ_{1}}{30} - \\frac{13 Ψ_{2}}{60} + \\frac{47 Ψ_{3}}{60} + \\frac{9 Ψ_{4}}{20} - \\frac{Ψ_{5}}{20}$"
      ],
      "text/plain": [
       "Ψ_1/30 - 13*Ψ_2/60 + 47*Ψ_3/60 + 9*Ψ_4/20 - Ψ_5/20"
      ]
     },
     "execution_count": 9,
     "metadata": {},
     "output_type": "execute_result"
    }
   ],
   "source": [
    "# Express as a difference of fluxes\n",
    "# Find Ψ_l and Ψ_r so that Ddx = (Ψ_r - Ψ_l)/dx\n",
    "DdxR = Ddx*Dx # The residual of Ddx*Dx after removal of (Ψ_r - Ψ_l)\n",
    "[Psil, Psir] = sy.symbols(\"Ψ_l, Ψ_r\", real=True)\n",
    "Psil = Psir = sy.S.Zero\n",
    "for j in range(len(Psi)-1):\n",
    "    Psil = Psil - Psi[j]*DdxR.coeff(Psi[j])\n",
    "    Psir = Psir - Psi[j+1]*DdxR.coeff(Psi[j])\n",
    "    DdxR = sy.collect(sy.expand(Ddx*Dx - (Psir - Psil)), Psi)\n",
    "\n",
    "print('Residual =', DdxR, '\\nThe right flux is')\n",
    "Psir"
   ]
  },
  {
   "cell_type": "code",
   "execution_count": 10,
   "id": "e4111712-716b-4132-bf3d-380f23643de0",
   "metadata": {},
   "outputs": [
    {
     "data": {
      "text/latex": [
       "$\\displaystyle 0$"
      ],
      "text/plain": [
       "0"
      ]
     },
     "execution_count": 10,
     "metadata": {},
     "output_type": "execute_result"
    }
   ],
   "source": [
    "# Express $\\Psi_r$ as a linear combination of gradients\n",
    "u = Psi[3]\n",
    "#grad4u = (Psi[1] - 4*Psi[2] + 6*Psi[3] - 4*Psi[4] + Psi[5])/Dx**4\n",
    "#grad2u = (Psi[4] + Psi[2] - 2*Psi[3])/Dx**2\n",
    "#grad2d = (Psi[5] + Psi[3] - 2*Psi[4])/Dx**2\n",
    "\n",
    "#gradGradu = (Psi[1] - Psi[2] - Psi[3] + Psi[4])/(2*Dx**2)\n",
    "gradGradu = (Psi[5] - 2*Psi[3] + Psi[1])/(4*Dx**2)\n",
    "gradd = (Psi[5] - Psi[3])/(2*Dx)\n",
    "gradu = (Psi[4] - Psi[2])/(2*Dx)\n",
    "gradf = (Psi[4] - Psi[3])/Dx\n",
    "\n",
    "#PsirG = u + gradf/2 - grad2u/12 - grad2d/12 + grad4u/30\n",
    "#PsirG = u + Dx*gradf/2 - Dx*gradd/6 + Dx*gradu/6 + Dx**4*grad4u/30\n",
    "#PsirG = u + Dx*7/30*gradf + 2*Dx*11/60*gradu - 2*Dx*gradd/20 + 2*Dx**2*gradGradu/30\n",
    "PsirG = u  + 7/30*Dx*gradf + 13/30*Dx*gradu - Dx*gradd/6 + 2*Dx**2*gradGradu/15\n",
    "resid = PsirG - Psir\n",
    "resid\n",
    "#PsirG"
   ]
  },
  {
   "cell_type": "code",
   "execution_count": null,
   "id": "4488fbc4-5b31-4001-91fa-704ebee87744",
   "metadata": {},
   "outputs": [],
   "source": [
    "# Stability Analysis\n",
    "# mu and eta for quasi-quintic\n",
    "kDx = sy.symbols(\"kΔx\", real=True)\n",
    "mu = 1 - E**(-I*kDx)\n",
    "eta = -mu\n",
    "\n",
    "indicies = [-2,-1,0,1,2]\n",
    "weights = [sy.Rational(1,30), sy.Rational(-13,60), sy.Rational(47/60), sy.Rational(9/20), \n",
    "           sy.Rational(-1/20)]\n",
    "for j,w in zip(indicies, weights):\n",
    "    eta += w*(E**(j*I*kDx) - E**((j-1)*I*kDx))"
   ]
  },
  {
   "cell_type": "code",
   "execution_count": null,
   "id": "d8bd49af-28ae-4840-8aa5-5a26c54166c1",
   "metadata": {},
   "outputs": [],
   "source": [
    "# RK3 Butcher Tableau\n",
    "quarter = sy.Rational(1,4)\n",
    "sixth = sy.Rational(1,6)\n",
    "half  = sy.Rational(1,2)\n",
    "RK3 = [[1,0,0], [quarter,quarter,0], [sixth, sixth, 4*sixth]]\n",
    "RK1 = [[1]]\n",
    "RK = RK3"
   ]
  },
  {
   "cell_type": "code",
   "execution_count": null,
   "id": "ff44cf3d-8bd4-4cb3-83de-9c0011bb931a",
   "metadata": {},
   "outputs": [],
   "source": [
    "# Amplification factors for Strang carry-over AdImEx with RK3\n",
    "c, alpha, beta, gamma = sy.symbols(\"c, alpha, beta, gamma\", real=True, positive=True)\n",
    "A = sy.Matrix(sy.symarray(\"A\", (len(RK)+2,)))\n",
    "A[0] = 1 - c*(1-alpha)*beta*mu\n",
    "for i in range(1,len(RK)+1):\n",
    "    A[i] = A[0]\n",
    "    for j in range(0,i):\n",
    "        A[i] -= c*((1-beta)*mu + gamma*eta)*RK[i-1][j]*A[j]\n",
    "A[-1] = A[-2]/(1 + c*alpha*beta*mu)"
   ]
  },
  {
   "cell_type": "code",
   "execution_count": null,
   "id": "c406cd69-05e0-419d-8671-2619e954f013",
   "metadata": {},
   "outputs": [],
   "source": [
    "# Amplification factor for beta =0, alpha=0, gamma=1\n",
    "magAexp = A[-1].subs({alpha:0, beta:0, gamma:1})\n",
    "magAexp = (sy.re(magAexp)**2 + sy.im(magAexp)**2)**(1/2)"
   ]
  },
  {
   "cell_type": "code",
   "execution_count": null,
   "id": "ceee1cd7-a0f9-4f9b-a4eb-1c5970a02243",
   "metadata": {},
   "outputs": [],
   "source": [
    "# Convert to a meshgrid as a funciton of c and kdx\n",
    "def magA(cs, kdxs):\n",
    "    try:\n",
    "        cs, kdxs = np.meshgrid(cs, kdxs)\n",
    "    except:\n",
    "        pass\n",
    "    return sy.lambdify([c, kDx], magAexp**.5, 'numpy')(cs, kdxs)\n",
    "\n",
    "cs = np.linspace(0,1.5, 16)\n",
    "kdxs = np.linspace(0, np.pi, 11)\n",
    "AE = magA(cs, kdxs)"
   ]
  },
  {
   "cell_type": "code",
   "execution_count": null,
   "id": "764d4260-e372-468c-9b93-7329005675fc",
   "metadata": {},
   "outputs": [],
   "source": [
    "plt.contourf(cs, kdxs, AE)\n",
    "plt.colorbar()\n",
    "plt.contour(cs, kdxs, AE, [1,100], colors='w')\n",
    "plt.xlabel('c')\n",
    "plt.ylabel(r'$k\\Delta x$')\n",
    "plt.show()"
   ]
  },
  {
   "cell_type": "code",
   "execution_count": null,
   "id": "413935a9-76c4-428f-b6b6-8c3a894f101b",
   "metadata": {},
   "outputs": [],
   "source": [
    "# Check that the quintic fluxes exactly reproduce a gradient of a 5th order polynomial\n",
    "a,b,c,d,e,f,x = sy.symbols(\"a b c d e f x\", real=True)\n",
    "poly = a*x**5 + b*x**4 + c*x**3 + d*x**2 + e*x + f\n",
    "gradPoly = poly.diff(x)\n",
    "Psi0 = poly.subs({x: -3*x})\n",
    "Psi1 = poly.subs({x: -2*x})\n",
    "Psi2 = poly.subs({x: -x})\n",
    "Psi3 = poly.subs({x: 0})\n",
    "Psi4 = poly.subs({x: x})\n",
    "Psi5 = poly.subs({x: 2*x})\n",
    "right = Psir.subs({Psi[1]:Psi1, Psi[2]:Psi2, Psi[3]:Psi3, Psi[4]:Psi4, Psi[5]:Psi5})\n",
    "left  = Psir.subs({Psi[1]:Psi0, Psi[2]:Psi1, Psi[3]:Psi2, Psi[4]:Psi3, Psi[5]:Psi4})\n",
    "gradPolyN = (right - left)/x\n",
    "gradPolyN"
   ]
  }
 ],
 "metadata": {
  "kernelspec": {
   "display_name": "Python 3 (ipykernel)",
   "language": "python",
   "name": "python3"
  },
  "language_info": {
   "codemirror_mode": {
    "name": "ipython",
    "version": 3
   },
   "file_extension": ".py",
   "mimetype": "text/x-python",
   "name": "python",
   "nbconvert_exporter": "python",
   "pygments_lexer": "ipython3",
   "version": "3.12.3"
  }
 },
 "nbformat": 4,
 "nbformat_minor": 5
}

{
 "cells": [
  {
   "cell_type": "markdown",
   "id": "9e5fcf98-4081-4a6a-95ea-69b68ca32270",
   "metadata": {},
   "source": [
    "# Derivation of a Quasi-Quintic Derivation of Divergence\n",
    "## Plan\n",
    "- Find a finite difference approximation for $\\partial\\Psi/\\partial x$\n",
    "- Express this as a differences of fluxes\n",
    "- Express using local gradients"
   ]
  },
  {
   "cell_type": "code",
   "execution_count": 2,
   "id": "8996afea-71c1-480e-b84d-70ee850303ad",
   "metadata": {},
   "outputs": [],
   "source": [
    "%reload_ext autoreload\n",
    "%autoreload 2\n",
    "%matplotlib inline"
   ]
  },
  {
   "cell_type": "code",
   "execution_count": 2,
   "id": "64873b1f-854a-4c54-a1a0-aaa031f36999",
   "metadata": {},
   "outputs": [],
   "source": [
    "import numpy as np\n",
    "import matplotlib.pyplot as plt\n",
    "import sympy as sy\n",
    "from sympy import latex\n",
    "from sympy.matrices import Matrix, MatrixSymbol\n",
    "from fractions import Fraction as Fr\n",
    "from sympy import I, E, pi, Q"
   ]
  },
  {
   "cell_type": "markdown",
   "id": "e8171953-611d-4907-9754-0b7618ac5361",
   "metadata": {},
   "source": [
    "## Quintic finite difference approximation for $\\partial\\Psi/\\partial x$\n",
    "Assume that $\\Psi$ follows a quintic polynomial:\n",
    "\\begin{eqnarray}\n",
    "\\psi &=& ax^5 + bx^4 + cx^3 + dx^2 + ex + f\n",
    "\\end{eqnarray}\n",
    "with $\\Delta x=1$ and $x=0$ at $j=0$. We know solutions\n",
    "\\begin{eqnarray}\n",
    "\\psi_{j-3} = \\psi_0 &=& (-3)^5 a + (-3)^4 b + (-3)^3 c + (-3)^2 d - 3e + f \\\\\n",
    "\\psi_{j-2} = \\psi_1 &=& (-2)^5 a + (-2)^4 b + (-2)^3 c + (-2)^2 d - 2e + f \\\\\n",
    "\\psi_{j-1} = \\psi_2 &=& -a + b - c + d - e + f \\\\\n",
    "\\psi_{j}   = \\psi_3 &=& f \\\\\n",
    "\\psi_{j+1} = \\psi_4 &=& a + b + c + d + e + f \\\\\n",
    "\\psi_{j+2} = \\psi_5 &=& 2^5 a + 2^4 b + 2^3 c + 2^2 d + 2e + f\n",
    "\\end{eqnarray}\n",
    "So $(a,b,c,d,e,f)$ is the solution of the matrix equation\n",
    "\\begin{equation*}\n",
    "\\left( \\begin{array}{cccccc}\n",
    "-3^5 & 3^4 & -3^3 & 3^2 & -3 & 1 \\\\\n",
    "-2^5 & 2^4 & -2^3 & 2^2 & -2 & 1 \\\\\n",
    "-1   & 1 & -1 & 1 & -1 & 1 \\\\\n",
    "0 & 0 & 0 & 0 & 0 & 1 \\\\\n",
    "1 & 1 & 1 & 1 & 1 & 1 \\\\\n",
    "2^5 & 2^4 & 2^3 & 2^2 & 2 & 1 \\\\\n",
    "\\end{array} \\right) \n",
    "\\left( \\begin{array}{c}\n",
    "a \\\\ b \\\\ c \\\\ d \\\\ e \\\\ f\n",
    "\\end{array} \\right) \n",
    "=\n",
    "\\left( \\begin{array}{c}\n",
    "\\psi_0 \\\\ \\psi_1 \\\\ \\psi_2 \\\\ \\psi_3 \\\\ \\psi_4 \\\\ \\psi_5\n",
    "\\end{array} \\right) \n",
    "\\end{equation*}\n",
    "We only need an expression for \n",
    "\\begin{equation*}\n",
    "\\partial\\Psi/\\partial x_j = e\n",
    "\\end{equation*}"
   ]
  },
  {
   "cell_type": "code",
   "execution_count": 45,
   "id": "83226be2-7a63-4068-9281-6b4ead04dc90",
   "metadata": {},
   "outputs": [
    {
     "data": {
      "text/latex": [
       "$\\displaystyle \\frac{- \\frac{Ψ_{0}}{30} + \\frac{Ψ_{1}}{4} - Ψ_{2} + \\frac{Ψ_{3}}{3} + \\frac{Ψ_{4}}{2} - \\frac{Ψ_{5}}{20}}{Δx}$"
      ],
      "text/plain": [
       "(-Ψ_0/30 + Ψ_1/4 - Ψ_2 + Ψ_3/3 + Ψ_4/2 - Ψ_5/20)/Δx"
      ]
     },
     "execution_count": 45,
     "metadata": {},
     "output_type": "execute_result"
    }
   ],
   "source": [
    "# Find the finite differene gradient\n",
    "# Coefficients a,b,c,d,e,f of the polynomial\n",
    "PolyCoeffs = sy.Matrix(sy.symarray(\"PolyCoeffs\", (6,)))\n",
    "# Grid point values at j-3,j-2, j-1, j, j+1 and j+2\n",
    "Psi = sy.Matrix(sy.symarray(\"Ψ\", (6,)), real=True)\n",
    "Dx = sy.symbols(\"Δx\", real=True)\n",
    "polyM = Matrix([[-3**5, 3**4, -3**3, 3**2,-3,1],\n",
    "                [-2**5, 2**4, -2**3, 2**2,-2,1],\n",
    "                [-1,1,-1,1,-1,1],\n",
    "                [0,0,0,0,0,1],\n",
    "                [1,1,1,1,1,1],\n",
    "                [2**5, 2**4, 2**3, 2**2, 2, 1]])\n",
    "PolyCoeffs = polyM.solve(Psi)\n",
    "Ddx = PolyCoeffs[4]/Dx\n",
    "Ddx\n",
    "#print(latex(Ddx))"
   ]
  },
  {
   "cell_type": "code",
   "execution_count": 50,
   "id": "09a09ff6-a9b7-4515-a2ab-8d01f0ad1719",
   "metadata": {},
   "outputs": [
    {
     "name": "stdout",
     "output_type": "stream",
     "text": [
      "Residual = 0 \n",
      "The right flux is\n"
     ]
    },
    {
     "data": {
      "text/latex": [
       "$\\displaystyle \\frac{Ψ_{1}}{30} - \\frac{13 Ψ_{2}}{60} + \\frac{47 Ψ_{3}}{60} + \\frac{9 Ψ_{4}}{20} - \\frac{Ψ_{5}}{20}$"
      ],
      "text/plain": [
       "Ψ_1/30 - 13*Ψ_2/60 + 47*Ψ_3/60 + 9*Ψ_4/20 - Ψ_5/20"
      ]
     },
     "execution_count": 50,
     "metadata": {},
     "output_type": "execute_result"
    }
   ],
   "source": [
    "# Express as a difference of fluxes\n",
    "# Find Ψ_l and Ψ_r so that Ddx = (Ψ_r - Ψ_l)/dx\n",
    "DdxR = Ddx*Dx # The residual of Ddx*Dx after removal of (Ψ_r - Ψ_l)\n",
    "[Psil, Psir] = sy.symbols(\"Ψ_l, Ψ_r\", real=True)\n",
    "Psil = Psir = sy.S.Zero\n",
    "for j in range(len(Psi)-1):\n",
    "    Psil = Psil - Psi[j]*DdxR.coeff(Psi[j])\n",
    "    Psir = Psir - Psi[j+1]*DdxR.coeff(Psi[j])\n",
    "    DdxR = sy.collect(sy.expand(Ddx*Dx - (Psir - Psil)), Psi)\n",
    "\n",
    "print('Residual =', DdxR, '\\nThe right flux is')\n",
    "Psir"
   ]
  },
  {
   "cell_type": "code",
   "execution_count": 61,
   "id": "e4111712-716b-4132-bf3d-380f23643de0",
   "metadata": {},
   "outputs": [
    {
     "data": {
      "text/latex": [
       "$\\displaystyle 0$"
      ],
      "text/plain": [
       "0"
      ]
     },
     "execution_count": 61,
     "metadata": {},
     "output_type": "execute_result"
    }
   ],
   "source": [
    "# Express $\\Psi_r$ as a linear combination of gradients\n",
    "u = Psi[3]\n",
    "grad4u = (Psi[1] - 4*Psi[2] + 6*Psi[3] - 4*Psi[4] + Psi[5])/Dx**4\n",
    "grad2u = (Psi[4] + Psi[2] - 2*Psi[3])/Dx**2\n",
    "grad2d = (Psi[5] + Psi[3] - 2*Psi[4])/Dx**2\n",
    "\n",
    "gradGradu = (Psi[1] - Psi[2] - Psi[3] + Psi[4])/(4*Dx**2)\n",
    "gradd = (Psi[5] - Psi[3])/(2*Dx)\n",
    "gradu = (Psi[4] - Psi[2])/(2*Dx)\n",
    "gradf = (Psi[4] - Psi[3])/Dx\n",
    "\n",
    "#PsirG = u + gradf/2 - grad2u/12 - grad2d/12 + grad4u/30\n",
    "#PsirG = u + Dx*gradf/2 - Dx*gradd/6 + Dx*gradu/6 + Dx**4*grad4u/30\n",
    "PsirG = u + Dx*7/30*gradf + 2*Dx*11/60*gradu - 2*Dx*gradd/20 + 4*Dx**2*gradGradu/30\n",
    "resid = PsirG - Psir\n",
    "resid"
   ]
  }
 ],
 "metadata": {
  "kernelspec": {
   "display_name": "Python 3 (ipykernel)",
   "language": "python",
   "name": "python3"
  },
  "language_info": {
   "codemirror_mode": {
    "name": "ipython",
    "version": 3
   },
   "file_extension": ".py",
   "mimetype": "text/x-python",
   "name": "python",
   "nbconvert_exporter": "python",
   "pygments_lexer": "ipython3",
   "version": "3.12.3"
  }
 },
 "nbformat": 4,
 "nbformat_minor": 5
}

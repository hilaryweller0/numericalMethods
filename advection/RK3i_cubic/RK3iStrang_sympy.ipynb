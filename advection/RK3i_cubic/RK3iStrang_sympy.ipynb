{
 "cells": [
  {
   "cell_type": "markdown",
   "id": "9e5fcf98-4081-4a6a-95ea-69b68ca32270",
   "metadata": {},
   "source": [
    "# Analysis of Strang-carryover with RK3/RK4 for AdImEx Advection\n",
    "## Plan\n",
    "- Discretise the advection equation in space using quasi-cubic\n",
    "- Aapply Strang-carryover adaptively implicitly (AdImEx) with high-order corrections treated explicitly.\n",
    "- Analyse the stabiltiy of the Strang-carryover scheme"
   ]
  },
  {
   "cell_type": "markdown",
   "id": "c692be7b-4db6-483a-b51a-dfa194017d9f",
   "metadata": {},
   "source": [
    "## Discretisation of the Advection Equation\n",
    "\\begin{eqnarray}\n",
    "\\frac{\\partial \\psi}{\\partial t} &=& -u \\frac{\\partial \\psi}{\\partial x} \\\\\n",
    "\\text{Assume } \\psi_j &=& e^{ikj\\Delta x},\\ c = u\\Delta t/\\Delta x,\\ \\lambda = u/\\Delta x \\\\\n",
    "\\end{eqnarray}\n",
    "\\begin{eqnarray}\n",
    "\\text{Analytic } \\frac{dy}{dt} &=& - i\\lambda k\\Delta x y \\\\\n",
    "\\end{eqnarray}\n",
    "The spatially discretised advection equation can be written as a correction on upwind:\n",
    "\\begin{eqnarray}\n",
    "\\frac{dy}{dt} &=& -\\lambda(\\mu  + \\eta) y\\\\\n",
    "\\text{where } \\mu &=& 1-\\cos k\\Delta x + i\\sin k\\Delta x \\ \\text{ (upwind)}\\\\\n",
    "\\text{and }   \\eta &=& -\\mu + \\left\\{\n",
    "\\sum_\\ell w_\\ell\\  e^{i\\ell k\\Delta x} - \\sum_{\\ell-1} w_\\ell\\  e^{i\\ell k\\Delta x}\n",
    "\\right\\}  \\ \\text{ (correction)}\n",
    "\\end{eqnarray}"
   ]
  },
  {
   "cell_type": "markdown",
   "id": "bbd41435-7364-423b-9286-406a9ecb5592",
   "metadata": {},
   "source": [
    "The correction weights for a more general, higher-order discretisation of $\\frac{\\partial \\psi}{\\partial x}$:\n",
    "\\begin{eqnarray}\n",
    "\\frac{\\partial \\psi}{\\partial x}_{HOj} &=& \\frac{\\psi_{j+1/2} - \\psi_{j-1/2}}{\\Delta x} \\\\\n",
    "\\text{where } \\psi_{j+1/2} &=& \\sum_{j+\\ell} w_\\ell\\ \\psi_{j+\\ell}\\\\\n",
    "\\implies\n",
    "\\frac{\\partial \\psi}{\\partial x}_{HOj} &=& \\sum_{j+\\ell} \\frac{w_\\ell\\ \\psi_{j+\\ell}}{\\Delta x}\n",
    "                                    - \\sum_{j+\\ell-1} \\frac{w_\\ell\\ \\psi_{j+\\ell}}{\\Delta x}\\\\\n",
    "\\implies -u\\frac{\\partial \\psi}{\\partial x}_{HOj} &=& -\\psi_j \\lambda \\left\\{\n",
    "\\sum_\\ell w_\\ell\\  e^{i\\ell k\\Delta x} - \\sum_{\\ell-1} w_\\ell\\  e^{i\\ell k\\Delta x}\n",
    "\\right\\}\n",
    "\\end{eqnarray}\n"
   ]
  },
  {
   "cell_type": "code",
   "execution_count": null,
   "id": "8996afea-71c1-480e-b84d-70ee850303ad",
   "metadata": {
    "scrolled": true
   },
   "outputs": [],
   "source": [
    "%reload_ext autoreload\n",
    "%autoreload 2\n",
    "%matplotlib inline"
   ]
  },
  {
   "cell_type": "code",
   "execution_count": null,
   "id": "64873b1f-854a-4c54-a1a0-aaa031f36999",
   "metadata": {},
   "outputs": [],
   "source": [
    "import numpy as np\n",
    "import matplotlib.pyplot as plt\n",
    "import sympy as sy\n",
    "#import fluidfoam as foam\n",
    "from sympy import latex\n",
    "from sympy import I, E, pi, Q"
   ]
  },
  {
   "cell_type": "code",
   "execution_count": null,
   "id": "1544a4ff-fd25-4d2d-a71e-124c34395ae1",
   "metadata": {},
   "outputs": [],
   "source": [
    "# mu and eta for a scheme with given weights\n",
    "kDx = sy.symbols(\"kΔx\", real=True)\n",
    "def muEta(indicies, weights):\n",
    "    mu = 1 - E**(-I*kDx)\n",
    "    eta = -mu\n",
    "    for j,w in zip(indicies, weights):\n",
    "        eta += w*(E**(j*I*kDx) - E**((j-1)*I*kDx))\n",
    "    return mu, eta\n",
    "\n",
    "# Quasi-cubic\n",
    "indicies3 = [-1,0,1]\n",
    "weights3 = [sy.Rational(-1,6), sy.Rational(5,6), sy.Rational(1,3)]\n",
    "mu, eta3 = muEta(indicies3, weights3)\n",
    "\n",
    "# Quasi-quintic\n",
    "indicies5 = [-2,-1,0,1,2]\n",
    "weights5 = [sy.Rational(1,30), sy.Rational(-13,60), sy.Rational(47/60), sy.Rational(9/20), \n",
    "           sy.Rational(-1/20)]\n",
    "mu, eta5 = muEta(indicies5, weights5)\n",
    "\n",
    "# Quasi-quartic\n",
    "indicies4 = [-2,-1,0,1]\n",
    "weights4 = [sy.Rational(1,12), sy.Rational(-5/12), sy.Rational(13/12), sy.Rational(1/4)]\n",
    "mu, eta4 = muEta(indicies4, weights4)"
   ]
  },
  {
   "cell_type": "code",
   "execution_count": null,
   "id": "1907b4fc-ad44-472a-af55-3ac169b52169",
   "metadata": {},
   "outputs": [],
   "source": [
    "# RK3, RK4 and RK1 Butcher Tableau\n",
    "quarter = sy.Rational(1,4)\n",
    "sixth = sy.Rational(1,6)\n",
    "half  = sy.Rational(1,2)\n",
    "third = sy.Rational(1,3)\n",
    "RK3 = [[1,0,0], [quarter,quarter,0], [sixth, sixth, 4*sixth]]\n",
    "RK4 = [[half,0,0,0], [0, half,0,0], [0,0,1,0], [sixth, third, third, sixth]]\n",
    "RK1 = [[1]]"
   ]
  },
  {
   "cell_type": "code",
   "execution_count": null,
   "id": "1a621c6d-c5ad-45fd-929c-89a3efa0eb45",
   "metadata": {},
   "outputs": [],
   "source": [
    "# Amplification factors for Strang carry-over AdImEx for a given RK scheme\n",
    "# and a given spatial discretistaion (defined by mu and eta)\n",
    "# as a function of Courant number, c and parameters alpha, beta and gamma\n",
    "c, alpha, beta, gamma = sy.symbols(\"c, alpha, beta, gamma\", real=True, positive=True)\n",
    "def ampFactor(RK, mu, eta):\n",
    "    A = sy.Matrix(sy.symarray(\"A\", (len(RK)+2,)))\n",
    "    A[0] = 1 - c*(1-alpha)*beta*mu\n",
    "    for i in range(1,len(RK)+1):\n",
    "        A[i] = A[0]\n",
    "        for j in range(0,i):\n",
    "            A[i] -= c*((1-beta)*mu + gamma*eta)*RK[i-1][j]*A[j]\n",
    "    A[-1] = A[-2]/(1 + c*alpha*beta*mu)\n",
    "    return A[-1]"
   ]
  },
  {
   "cell_type": "code",
   "execution_count": null,
   "id": "511656e6-11a0-4bd8-b7ad-ffb368afe14f",
   "metadata": {},
   "outputs": [],
   "source": [
    "# Amplification factors for specific schemes\n",
    "A33 = ampFactor(RK3, mu, eta3)\n",
    "A34 = ampFactor(RK4, mu, eta3)\n",
    "A53 = ampFactor(RK3, mu, eta5)\n",
    "A54 = ampFactor(RK4, mu, eta5)\n",
    "A43 = ampFactor(RK3, mu, eta4)\n",
    "A44 = ampFactor(RK4, mu, eta4)"
   ]
  },
  {
   "cell_type": "code",
   "execution_count": null,
   "id": "10461c45-27ef-48d0-81e7-111523a7ae07",
   "metadata": {},
   "outputs": [],
   "source": [
    "# Create a matrix of maximum amplification factors for a given scheme, for \n",
    "# a range of Courant numbers, cs, and a range of gammas, gs, over a range of kDxs\n",
    "def maxMagA(cs, gs, A):\n",
    "    kdxs = np.linspace(np.pi/4, np.pi, 10)\n",
    "    magA = np.zeros([len(gs), len(cs)])\n",
    "    for ic in range(len(cs)):\n",
    "        cTmp = cs[ic]\n",
    "        aTmp = 1-1/max(2,cTmp)\n",
    "        bTmp = 1-1/max(1,cTmp)\n",
    "        for ig in range(len(gs)):\n",
    "            for ik in range(len(kdxs)):\n",
    "                Atmp = A.subs({alpha: aTmp, beta: bTmp, kDx: kdxs[ik], c: cTmp, gamma: gs[ig]})\n",
    "                magA[ig,ic] = max(magA[ig,ic], abs(Atmp.evalf()))\n",
    "    return magA"
   ]
  },
  {
   "cell_type": "code",
   "execution_count": null,
   "id": "da9cb1ab-7ab5-4cf3-8eb8-78e5bb6574de",
   "metadata": {},
   "outputs": [],
   "source": [
    "cs = 0.1*10**np.linspace(0,3,13)\n",
    "gs = (0.001)*10**np.linspace(0,3,13)"
   ]
  },
  {
   "cell_type": "code",
   "execution_count": null,
   "id": "99a92228-b7b0-424d-9956-8f25785a9538",
   "metadata": {},
   "outputs": [],
   "source": [
    "magA33 = maxMagA(cs, gs, A33)\n",
    "magA34 = maxMagA(cs, gs, A34)\n",
    "magA53 = maxMagA(cs, gs, A53)\n",
    "magA54 = maxMagA(cs, gs, A54)\n",
    "magA43 = maxMagA(cs, gs, A43)\n",
    "magA44 = maxMagA(cs, gs, A44)"
   ]
  },
  {
   "cell_type": "code",
   "execution_count": null,
   "id": "0dbea3e8-d545-43a5-99d2-76a449d073d0",
   "metadata": {},
   "outputs": [],
   "source": [
    "def gammaPoly(c, cMax, grad):\n",
    "    a = (2/grad)**2\n",
    "    b = cMax - 2/grad\n",
    "    return a/(c-b)**2\n",
    "\n",
    "def gammaLinear(c, cMax, grad):\n",
    "    a = 1/grad\n",
    "    b = cMax - a\n",
    "    return a/(c-b)"
   ]
  },
  {
   "cell_type": "code",
   "execution_count": null,
   "id": "57a3bae9-c96a-4469-ac4b-994362eeb3e0",
   "metadata": {},
   "outputs": [],
   "source": [
    "# Plot of magA33\n",
    "magA = magA33\n",
    "fig, ax = plt.subplots()\n",
    "ax1 = ax.contourf(cs,gs, magA, levels=np.linspace(0,2,21), extend='max', cmap='seismic')\n",
    "fig.colorbar(ax1)\n",
    "ax.set_xscale('log')\n",
    "ax.set_yscale('log')\n",
    "ax.contour(cs, gs, magA, [-1,1], colors='k')\n",
    "ax.plot(cs, gammaLinear(cs, 2, 0.15), 'c--', label='lin 2, 0.15')\n",
    "ax.plot(cs, gammaLinear(cs, 2, 0.2), 'm--', label='lin 2, 0.2')\n",
    "ax.legend()\n",
    "ax.set_xlabel('c')\n",
    "ax.set_ylabel(r'$\\gamma$')\n",
    "ax.set_ylim([0.1,1])\n",
    "ax.set_xlim([1, 30])\n",
    "plt.show()"
   ]
  },
  {
   "cell_type": "code",
   "execution_count": null,
   "id": "7cb4a050-2f05-451c-ba74-329b90ee84c5",
   "metadata": {},
   "outputs": [],
   "source": [
    "# Plot of magA34\n",
    "magA = magA34\n",
    "fig, ax = plt.subplots()\n",
    "ax1 = ax.contourf(cs,gs, magA, levels=np.linspace(0,2,21), extend='max', cmap='seismic')\n",
    "fig.colorbar(ax1)\n",
    "ax.set_xscale('log')\n",
    "ax.set_yscale('log')\n",
    "ax.contour(cs, gs, magA, [-1,1], colors='k')\n",
    "ax.plot(cs, gammaLinear(cs, 3, 0.25), 'c--', label='lin 3, 1/4')\n",
    "ax.plot(cs, gammaLinear(cs, 3, 0.2),  'm--', label='lin 3, 0.2')\n",
    "ax.legend()\n",
    "ax.set_xlabel('c')\n",
    "ax.set_ylabel(r'$\\gamma$')\n",
    "ax.set_ylim([0.1,1])\n",
    "ax.set_xlim([1, 30])\n",
    "plt.show()"
   ]
  },
  {
   "cell_type": "code",
   "execution_count": null,
   "id": "bf2112a7-b98f-43fd-8df4-4710efc0c59c",
   "metadata": {},
   "outputs": [],
   "source": [
    "# Plot of magA53\n",
    "magA = magA53\n",
    "fig, ax = plt.subplots()\n",
    "ax1 = ax.contourf(cs,gs, magA, levels=np.linspace(0,2,21), extend='max', cmap='seismic')\n",
    "fig.colorbar(ax1)\n",
    "ax.set_xscale('log')\n",
    "ax.set_yscale('log')\n",
    "ax.contour(cs, gs, magA, [-1,1], colors='k')\n",
    "ax.plot(cs, gammaLinear(cs, 1, 0.25), 'b--', label='lin 1, 1/4')\n",
    "ax.plot(cs, gammaLinear(cs, 1, 0.3), 'r--', label='lin 1, 0.3')\n",
    "ax.legend()\n",
    "ax.set_xlabel('c')\n",
    "ax.set_ylabel(r'$\\gamma$')\n",
    "ax.set_ylim([0.1,1])\n",
    "ax.set_xlim([0.8, 10])\n",
    "plt.show()"
   ]
  },
  {
   "cell_type": "code",
   "execution_count": null,
   "id": "e3617328-c3f8-4ff5-a169-a6922250b0a9",
   "metadata": {},
   "outputs": [],
   "source": [
    "# Plot of magA54\n",
    "magA = magA54\n",
    "fig, ax = plt.subplots()\n",
    "ax1 = ax.contourf(cs,gs, magA, levels=np.linspace(0,2,21), extend='max', cmap='seismic')\n",
    "fig.colorbar(ax1)\n",
    "ax.set_xscale('log')\n",
    "ax.set_yscale('log')\n",
    "ax.contour(cs, gs, magA, [-1,1], colors='k')\n",
    "ax.plot(cs, gammaLinear(cs, 1.4, 0.4), 'c--', label='lin 1.4, 0.4')\n",
    "ax.plot(cs, gammaLinear(cs, 1.4, 0.3), 'm--', label='lin 1.4, 0.3')\n",
    "ax.legend()\n",
    "ax.set_xlabel('c')\n",
    "ax.set_ylabel(r'$\\gamma$')\n",
    "ax.set_ylim([0.1,1])\n",
    "ax.set_xlim([1, 30])\n",
    "plt.show()"
   ]
  },
  {
   "cell_type": "code",
   "execution_count": null,
   "id": "9a07865c-bd00-4d86-bd85-af63fdceb273",
   "metadata": {},
   "outputs": [],
   "source": [
    "# Plot of magA44\n",
    "magA = magA44\n",
    "fig, ax = plt.subplots()\n",
    "ax1 = ax.contourf(cs,gs, magA, levels=np.linspace(0,2,21), extend='max', cmap='seismic')\n",
    "fig.colorbar(ax1)\n",
    "ax.set_xscale('log')\n",
    "ax.set_yscale('log')\n",
    "ax.contour(cs, gs, magA, [-1,1], colors='k')\n",
    "ax.plot(cs, gammaLinear(cs, 1.7, 0.4), 'm--', label='lin 1.7, 0.4')\n",
    "ax.plot(cs, gammaLinear(cs, 1.7, 0.31), 'c--', label='lin 1.7, 0.31')\n",
    "ax.legend()\n",
    "ax.set_xlabel('c')\n",
    "ax.set_ylabel(r'$\\gamma$')\n",
    "ax.set_ylim([0.1,1])\n",
    "ax.set_xlim([1, 30])\n",
    "plt.show()"
   ]
  },
  {
   "cell_type": "code",
   "execution_count": null,
   "id": "5c94674b-b01d-4ba4-99af-3f5367b037c5",
   "metadata": {},
   "outputs": [],
   "source": [
    "# Plot of magA43\n",
    "magA = magA43\n",
    "fig, ax = plt.subplots()\n",
    "ax1 = ax.contourf(cs,gs, magA, levels=np.linspace(0,2,21), extend='max', cmap='seismic')\n",
    "fig.colorbar(ax1)\n",
    "ax.set_xscale('log')\n",
    "ax.set_yscale('log')\n",
    "ax.contour(cs, gs, magA, [-1,1], colors='k')\n",
    "ax.plot(cs, gammaLinear(cs, 1.7, 0.4), 'm--', label='lin 1.7, 0.4')\n",
    "ax.plot(cs, gammaLinear(cs, 1.7, 0.31), 'c--', label='lin 1.7, 0.31')\n",
    "ax.legend()\n",
    "ax.set_xlabel('c')\n",
    "ax.set_ylabel(r'$\\gamma$')\n",
    "ax.set_ylim([0.1,1])\n",
    "ax.set_xlim([cs[0], 30])\n",
    "plt.show()"
   ]
  }
 ],
 "metadata": {
  "kernelspec": {
   "display_name": "Python 3 (ipykernel)",
   "language": "python",
   "name": "python3"
  },
  "language_info": {
   "codemirror_mode": {
    "name": "ipython",
    "version": 3
   },
   "file_extension": ".py",
   "mimetype": "text/x-python",
   "name": "python",
   "nbconvert_exporter": "python",
   "pygments_lexer": "ipython3",
   "version": "3.12.3"
  }
 },
 "nbformat": 4,
 "nbformat_minor": 5
}

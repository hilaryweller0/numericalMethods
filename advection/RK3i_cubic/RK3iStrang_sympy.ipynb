{
 "cells": [
  {
   "cell_type": "markdown",
   "id": "9e5fcf98-4081-4a6a-95ea-69b68ca32270",
   "metadata": {},
   "source": [
    "# Analysis of Strang-carryover with RK3 for AdImEx Advection\n",
    "## Plan\n",
    "- Discretise the advection equation in space using quasi-cubic\n",
    "- Aapply Strang-carryover adaptively implicitly (AdImEx) with high-order corrections treated explicitly.\n",
    "- Analyse the stabiltiy of the Strang-carryover scheme"
   ]
  },
  {
   "cell_type": "markdown",
   "id": "c692be7b-4db6-483a-b51a-dfa194017d9f",
   "metadata": {},
   "source": [
    "## Discretisation of the Advection Equation\n",
    "\\begin{eqnarray}\n",
    "\\frac{\\partial \\psi}{\\partial t} &=& -u \\frac{\\partial \\psi}{\\partial x} \\\\\n",
    "\\text{Assume } \\psi_j &=& e^{ikj\\Delta x},\\ c = u\\Delta t/\\Delta x,\\ \\lambda = u/\\Delta x \\\\\n",
    "\\end{eqnarray}\n",
    "\\begin{eqnarray}\n",
    "\\text{Analytic } \\frac{dy}{dt} &=& - i\\lambda k\\Delta x y \\\\\n",
    "\\end{eqnarray}\n",
    "The spatially discretised advection equation can be written as a correction on upwind:\n",
    "\\begin{eqnarray}\n",
    "\\frac{dy}{dt} &=& -\\lambda(\\mu  + \\eta) y\\\\\n",
    "\\text{where } \\mu &=& 1-\\cos k\\Delta x + i\\sin k\\Delta x \\ \\text{ (upwind)}\\\\\n",
    "\\text{and }   \\eta &=& -\\mu + \\left\\{\n",
    "\\sum_\\ell w_\\ell\\  e^{i\\ell k\\Delta x} - \\sum_{\\ell-1} w_\\ell\\  e^{i\\ell k\\Delta x}\n",
    "\\right\\}  \\ \\text{ (correction)}\n",
    "\\end{eqnarray}"
   ]
  },
  {
   "cell_type": "markdown",
   "id": "bbd41435-7364-423b-9286-406a9ecb5592",
   "metadata": {},
   "source": [
    "The correction weights for a more general, higher-order discretisation of $\\frac{\\partial \\psi}{\\partial x}$:\n",
    "\\begin{eqnarray}\n",
    "\\frac{\\partial \\psi}{\\partial x}_{HOj} &=& \\frac{\\psi_{j+1/2} - \\psi_{j-1/2}}{\\Delta x} \\\\\n",
    "\\text{where } \\psi_{j+1/2} &=& \\sum_{j+\\ell} w_\\ell\\ \\psi_{j+\\ell}\\\\\n",
    "\\implies\n",
    "\\frac{\\partial \\psi}{\\partial x}_{HOj} &=& \\sum_{j+\\ell} \\frac{w_\\ell\\ \\psi_{j+\\ell}}{\\Delta x}\n",
    "                                    - \\sum_{j+\\ell-1} \\frac{w_\\ell\\ \\psi_{j+\\ell}}{\\Delta x}\\\\\n",
    "\\implies -u\\frac{\\partial \\psi}{\\partial x}_{HOj} &=& -\\psi_j \\lambda \\left\\{\n",
    "\\sum_\\ell w_\\ell\\  e^{i\\ell k\\Delta x} - \\sum_{\\ell-1} w_\\ell\\  e^{i\\ell k\\Delta x}\n",
    "\\right\\}\n",
    "\\end{eqnarray}\n"
   ]
  },
  {
   "cell_type": "code",
   "execution_count": null,
   "id": "8996afea-71c1-480e-b84d-70ee850303ad",
   "metadata": {},
   "outputs": [],
   "source": [
    "%reload_ext autoreload\n",
    "%autoreload 2\n",
    "%matplotlib inline"
   ]
  },
  {
   "cell_type": "code",
   "execution_count": null,
   "id": "64873b1f-854a-4c54-a1a0-aaa031f36999",
   "metadata": {},
   "outputs": [],
   "source": [
    "import numpy as np\n",
    "import matplotlib.pyplot as plt\n",
    "import sympy as sy\n",
    "#import fluidfoam as foam\n",
    "from sympy import latex\n",
    "from sympy import I, E, pi, Q"
   ]
  },
  {
   "cell_type": "code",
   "execution_count": null,
   "id": "1544a4ff-fd25-4d2d-a71e-124c34395ae1",
   "metadata": {},
   "outputs": [],
   "source": [
    "# mu and eta for a scheme with given weights\n",
    "kDx = sy.symbols(\"kΔx\", real=True)\n",
    "def muEta(indicies, weights):\n",
    "    mu = 1 - E**(-I*kDx)\n",
    "    eta = -mu\n",
    "    for j,w in zip(indicies, weights):\n",
    "        eta += w*(E**(j*I*kDx) - E**((j-1)*I*kDx))\n",
    "    return mu, eta\n",
    "\n",
    "# Quasi-cubic\n",
    "indicies3 = [-1,0,1]\n",
    "weights3 = [sy.Rational(-1,6), sy.Rational(5,6), sy.Rational(1,3)]\n",
    "mu, eta3 = muEta(indicies3, weights3)\n",
    "\n",
    "# Quasi-quintic\n",
    "indicies5 = [-2,-1,0,1,2]\n",
    "weights5 = [sy.Rational(1,30), sy.Rational(-13,60), sy.Rational(47/60), sy.Rational(9/20), \n",
    "           sy.Rational(-1/20)]\n",
    "mu, eta5 = muEta(indicies5, weights5)"
   ]
  },
  {
   "cell_type": "code",
   "execution_count": null,
   "id": "1907b4fc-ad44-472a-af55-3ac169b52169",
   "metadata": {},
   "outputs": [],
   "source": [
    "# RK3 and RK1 Butcher Tableau\n",
    "quarter = sy.Rational(1,4)\n",
    "sixth = sy.Rational(1,6)\n",
    "half  = sy.Rational(1,2)\n",
    "RK3 = [[1,0,0], [quarter,quarter,0], [sixth, sixth, 4*sixth]]\n",
    "RK1 = [[1]]"
   ]
  },
  {
   "cell_type": "code",
   "execution_count": null,
   "id": "1a621c6d-c5ad-45fd-929c-89a3efa0eb45",
   "metadata": {},
   "outputs": [],
   "source": [
    "# Amplification factors for Strang carry-over AdImEx for a given RK scheme\n",
    "# and a given spatial discretistaion (defined by mu and eta)\n",
    "# as a function of Courant number, c and parameters alpha, beta and gamma\n",
    "c, alpha, beta, gamma = sy.symbols(\"c, alpha, beta, gamma\", real=True, positive=True)\n",
    "def ampFactor(RK, mu, eta):\n",
    "    A = sy.Matrix(sy.symarray(\"A\", (len(RK)+2,)))\n",
    "    A[0] = 1 - c*(1-alpha)*beta*mu\n",
    "    for i in range(1,len(RK)+1):\n",
    "        A[i] = A[0]\n",
    "        for j in range(0,i):\n",
    "            A[i] -= c*((1-beta)*mu + gamma*eta)*RK[i-1][j]*A[j]\n",
    "    A[-1] = A[-2]/(1 + c*alpha*beta*mu)\n",
    "    return A[-1]"
   ]
  },
  {
   "cell_type": "code",
   "execution_count": null,
   "id": "5cac9447-e22b-4e71-96db-c5c573d37b74",
   "metadata": {},
   "outputs": [],
   "source": [
    "# Amplification factor for beta = 1-1/c, alpha=1/2, gamma=1\n",
    "AQC = ampFactor(RK3, mu, eta3)\n",
    "Ag1 = AQC.subs({alpha:half, beta:1-1/c, gamma:1})\n",
    "Ag1 = sy.collect(Ag1, c)\n",
    "Ag1 = sy.simplify(Ag1)\n",
    "Ag1"
   ]
  },
  {
   "cell_type": "code",
   "execution_count": null,
   "id": "2845111d-f002-476e-b882-b638103300a5",
   "metadata": {},
   "outputs": [],
   "source": [
    "# Amplification for functional forms of alpha, beta and kdx\n",
    "Aab = AQC.subs({alpha: 1-1/c, beta: 1-1/c, kDx: pi})\n",
    "Aab = sy.refine(Aab, Q.positive(c-2))\n",
    "Aab = sy.refine(Aab, Q.positive(gamma))\n",
    "Aab = sy.refine(Aab, Q.positive(1-gamma))\n",
    "g = sy.solve(sy.re(Aab)**2 + sy.im(Aab)**2 -1, gamma)\n",
    "magSqrA = sy.collect(sy.re(Aab)**2 + sy.im(Aab)**2, c)\n",
    "magSqrA = sy.simplify(magSqrA)\n",
    "magSqrA"
   ]
  },
  {
   "cell_type": "code",
   "execution_count": null,
   "id": "068f776e-ad49-4d66-8c00-e376c1dd16b8",
   "metadata": {},
   "outputs": [],
   "source": [
    "# Limiting values of |Aab|\n",
    "# For large c\n",
    "magA_cBig = sy.sqrt(125*c**6*gamma**6/26244)\n",
    "magA_cBig = sy.simplify(magA_cBig)\n",
    "magA_cBig"
   ]
  },
  {
   "cell_type": "code",
   "execution_count": null,
   "id": "9501f140-523a-452d-bedb-cd84a280fb45",
   "metadata": {},
   "outputs": [],
   "source": [
    "# What is gamma for large c?\n",
    "g = sy.solve(magA_cBig-1, gamma)\n",
    "print(g)\n",
    "g[0].subs({c:1}).evalf()"
   ]
  },
  {
   "cell_type": "code",
   "execution_count": null,
   "id": "f18b95af-12ea-4f9b-8068-7887fff47752",
   "metadata": {},
   "outputs": [],
   "source": [
    "# Amplification factor for alpha=0.5, beta=1-1/c\n",
    "Ai = AQC.subs({alpha: half, beta: 1-1/c, kDx: pi/2})\n",
    "Ai = sy.refine(Ai, Q.positive(c-2))\n",
    "Ai = sy.refine(Ai, Q.positive(gamma))\n",
    "Ai = sy.refine(Ai, Q.positive(1-gamma))\n",
    "\n",
    "magSqrAi = sy.collect(sy.re(Ai)**2 + sy.im(Ai)**2, c)\n",
    "magSqrAi = sy.simplify(magSqrAi)\n",
    "magSqrAi\n",
    "\n",
    "cMax = sy.solve(magSqrAi.subs({gamma:1})-1, c)\n",
    "for ci in cMax:\n",
    "    print(ci.evalf())"
   ]
  },
  {
   "cell_type": "code",
   "execution_count": null,
   "id": "10461c45-27ef-48d0-81e7-111523a7ae07",
   "metadata": {},
   "outputs": [],
   "source": [
    "def magAg(cs, gs, A):\n",
    "    try:\n",
    "        cs, gs = np.meshgrid(cs, gs)\n",
    "    except:\n",
    "        pass\n",
    "    magSqrA = sy.collect(sy.re(A)**2 + sy.im(A)**2, c)\n",
    "    return sy.lambdify([c, gamma], magSqrA**.5, 'numpy')(cs, gs)\n",
    "\n",
    "def magAk(cs, kdxs, A):\n",
    "    try:\n",
    "        cs, kdxs = np.meshgrid(cs, kdxs)\n",
    "    except:\n",
    "        pass\n",
    "    magSqrA = sy.collect(sy.re(A)**2 + sy.im(A)**2, c)\n",
    "    return sy.lambdify([c, kDx], magSqrA**.5, 'numpy')(cs, kdxs)\n",
    "\n",
    "cs = np.linspace(2, 20, 36)\n",
    "gs = np.linspace(0, 1, 11)\n",
    "Ag = magAg(cs, gs, AQC.subs({alpha: half, beta: 1-1/c, kDx: pi/2}))"
   ]
  },
  {
   "cell_type": "code",
   "execution_count": null,
   "id": "5fadcb9f-57dc-46e5-922e-b7b6224628da",
   "metadata": {},
   "outputs": [],
   "source": [
    "g = sy.solve(magSqrA -1, gamma)\n",
    "#print(g)\n",
    "\n",
    "# Print solutions using magSqrA and magA\n",
    "for ga in g:\n",
    "    ga = sy.simplify(ga)\n",
    "    ga = sy.collect(ga, c)\n",
    "    ga = sy.simplify(ga)\n",
    "    #print('Solution :', ga)\n",
    "    Co = 20\n",
    "    Ga = ga.subs({c: Co})\n",
    "    if sy.im(Ga) == 0:\n",
    "        if Ga > 0. and Ga < 1.:\n",
    "            #print('gamma =', Ga.evalf(), 'c =', Co, 'magSqrA =', magSqrA.subs({gamma: Ga, c: Co}).evalf(),\n",
    "            #      'magA =', magA(Co, Ga.evalf()))\n",
    "            #print('g(c) = ',ga)\n",
    "            gByc = sy.lambdify(c, ga, 'numpy')"
   ]
  },
  {
   "cell_type": "code",
   "execution_count": null,
   "id": "99de0e40-a5da-4805-b1bf-327e2b7f1cd5",
   "metadata": {},
   "outputs": [],
   "source": [
    "plt.contourf(cs, gs, Ag)\n",
    "plt.colorbar()\n",
    "plt.contour(cs, gs, Ag, [1,100], colors='w')\n",
    "plt.plot(cs, 6.5/np.maximum(1, cs+4), 'k--', label='6.5/(c+4)')\n",
    "plt.plot(cs, 6.5/np.maximum(1, cs+5), 'r--', label='6.5/(c+5)')\n",
    "plt.plot(cs, 6.5/np.maximum(1, cs+3.5), 'y--', label='6.5/(c+3.5)')\n",
    "plt.plot(cs, 5/np.maximum(1, cs+4), 'w--', label='5/(c+4)')\n",
    "plt.plot(cs, 2/np.maximum(2, cs), 'g--', label='2/c')\n",
    "#plt.plot(cs, gByc(cs), label='gByc')\n",
    "plt.legend()\n",
    "plt.xlabel('c')\n",
    "plt.ylabel(r'$\\gamma$')\n",
    "plt.ylim([0,1])\n",
    "plt.title(r'|A| for $\\alpha=1-1/c$, $\\beta=1-1/c$')\n",
    "plt.savefig('plots/AadImExgamma.pdf')\n",
    "plt.show()"
   ]
  },
  {
   "cell_type": "code",
   "execution_count": null,
   "id": "b7470e4b-7d75-4295-9368-670a205e8d94",
   "metadata": {},
   "outputs": [],
   "source": [
    "# |A| for beta=1-1/c, alpha=1/2, gamma=1\n",
    "cs = np.linspace(1, 3, 21)\n",
    "kdxs = np.linspace(0, np.pi, 21)\n",
    "Ai = magAk(cs, kdxs, AQC.subs({alpha: half, beta: 1-1/c, gamma:1}))\n",
    "\n",
    "plt.contourf(cs, kdxs, Ai)\n",
    "plt.colorbar()\n",
    "plt.contour(cs, kdxs, Ai, [-1,1], colors='w')\n",
    "plt.xlabel('c')\n",
    "plt.ylabel(r'$k\\Delta x$')\n",
    "plt.title(r'Quasi-Cubic |A| for $\\alpha=1/2$, $\\beta=1-1/c$, $\\gamma=1$')\n",
    "plt.show()"
   ]
  },
  {
   "cell_type": "code",
   "execution_count": null,
   "id": "bf50fb96-8e38-4a6e-9fcc-175b8baa5b50",
   "metadata": {},
   "outputs": [],
   "source": [
    "# Amplicivation factor for Quasi-quintic with RK3\n",
    "AQQ = ampFactor(RK3, mu, eta5)\n",
    "cs = np.linspace(1,2, 21)\n",
    "kdxs = np.linspace(0, np.pi, 21)\n",
    "A = magAk(cs, kdxs, AQQ.subs({alpha: half, beta: 1-1/c, gamma:1}))\n",
    "\n",
    "plt.contourf(cs, kdxs, A)\n",
    "plt.colorbar()\n",
    "plt.contour(cs, kdxs, A, [-1,1], colors='w')\n",
    "plt.xlabel('c')\n",
    "plt.ylabel(r'$k\\Delta x$')\n",
    "plt.title(r'Quais-Quintic |A| for $\\alpha=1/2$, $\\beta=1-1/c$, $\\gamma=1$')\n",
    "plt.show()"
   ]
  },
  {
   "cell_type": "code",
   "execution_count": null,
   "id": "bf2112a7-b98f-43fd-8df4-4710efc0c59c",
   "metadata": {},
   "outputs": [],
   "source": [
    "def gammaPoly(c, cMax, grad):\n",
    "    a = (2/grad)**2\n",
    "    b = cMax - 2/grad\n",
    "    return a/(c-b)**2\n",
    "\n",
    "def gammaLinear(c, cMax, grad):\n",
    "    a = 1/grad\n",
    "    b = cMax - a\n",
    "    return a/(c-b)\n",
    "\n",
    "cs = 2**np.arange(0,7,0.25)\n",
    "#gs = (2**(-12))*2**np.linspace(0,12,13)\n",
    "gs = (10**(-3))*10**np.linspace(0,3, 15)\n",
    "Ag = magAg(cs, gs, AQQ.subs({alpha: 1-1/c, beta: 1-1/c, kDx: pi/2}))\n",
    "\n",
    "fig, ax = plt.subplots()\n",
    "ax.contourf(cs, gs, Ag)\n",
    "ax.set_xscale('log')\n",
    "ax.set_yscale('log')\n",
    "#fig.colorbar(ax=ax)\n",
    "ax.contour(cs, gs, Ag, [-1,1], colors='w')\n",
    "ax.plot(cs, gammaPoly(cs, 1.4, 0.25), 'b', label='sqr 1.4, 1/4')\n",
    "ax.plot(cs, gammaPoly(cs, 1.4, 0.3), 'r', label='sqr 1.4, 0.3')\n",
    "ax.plot(cs, gammaLinear(cs, 1.4, 0.25), 'b--', label='lin 1.4, 1/4')\n",
    "ax.plot(cs, gammaLinear(cs, 1.4, 0.3), 'r--', label='lin 1.4, 0.3')\n",
    "ax.legend()\n",
    "ax.set_xlabel('c')\n",
    "ax.set_ylabel(r'$\\gamma$')\n",
    "ax.set_ylim([0.1,1])\n",
    "ax.set_xlim([cs[0], 10])\n",
    "#ax.title(r'Quasi-quintic |A| for $\\alpha=1-1/c$, $\\beta=1-1/c$')\n",
    "plt.show()"
   ]
  }
 ],
 "metadata": {
  "kernelspec": {
   "display_name": "Python 3 (ipykernel)",
   "language": "python",
   "name": "python3"
  },
  "language_info": {
   "codemirror_mode": {
    "name": "ipython",
    "version": 3
   },
   "file_extension": ".py",
   "mimetype": "text/x-python",
   "name": "python",
   "nbconvert_exporter": "python",
   "pygments_lexer": "ipython3",
   "version": "3.12.3"
  }
 },
 "nbformat": 4,
 "nbformat_minor": 5
}

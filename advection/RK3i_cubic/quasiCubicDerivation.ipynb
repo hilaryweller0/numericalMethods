{
 "cells": [
  {
   "cell_type": "markdown",
   "id": "9e5fcf98-4081-4a6a-95ea-69b68ca32270",
   "metadata": {},
   "source": [
    "# Derivation of a Quasi-Cubic Divergence\n",
    "## Plan\n",
    "- Find a finite difference approximation for $\\partial\\Psi/\\partial x$\n",
    "- Express this as a differences of fluxes\n",
    "- Express using local gradients"
   ]
  },
  {
   "cell_type": "code",
   "execution_count": null,
   "id": "8996afea-71c1-480e-b84d-70ee850303ad",
   "metadata": {},
   "outputs": [],
   "source": [
    "%reload_ext autoreload\n",
    "%autoreload 2\n",
    "%matplotlib inline"
   ]
  },
  {
   "cell_type": "code",
   "execution_count": null,
   "id": "64873b1f-854a-4c54-a1a0-aaa031f36999",
   "metadata": {},
   "outputs": [],
   "source": [
    "import numpy as np\n",
    "import matplotlib.pyplot as plt\n",
    "import sympy as sy\n",
    "from sympy import latex\n",
    "from sympy.matrices import Matrix, MatrixSymbol\n",
    "from fractions import Fraction as Fr\n",
    "from sympy import I, E, pi, Q"
   ]
  },
  {
   "cell_type": "markdown",
   "id": "e8171953-611d-4907-9754-0b7618ac5361",
   "metadata": {},
   "source": [
    "## Cubic finite difference approximation for $\\partial\\Psi/\\partial x$\n",
    "Assume that $\\Psi$ follows a cubic polynomial:\n",
    "\\begin{eqnarray}\n",
    "\\psi &=& ax^3 + bx^2 + cx + d\n",
    "\\end{eqnarray}\n",
    "with $\\Delta x=1$ and $x=0$ at $j=0$. We know solutions\n",
    "\\begin{eqnarray}\n",
    "\\psi_{j-2} = \\psi_1 &=& (-2)^3 a + (-2)^2 b - 2c + d\\\\\n",
    "\\psi_{j-1} = \\psi_2 &=& -a + b - c + d \\\\\n",
    "\\psi_{j}   = \\psi_3 &=& d \\\\\n",
    "\\psi_{j+1} = \\psi_4 &=& a + b + c + d \\\\\n",
    "\\end{eqnarray}\n",
    "So $(a,b,c,d)$ is the solution of the matrix equation\n",
    "\\begin{equation*}\n",
    "\\left( \\begin{array}{cccc}\n",
    "-2^3 & 2^2 & -2 & 1 \\\\\n",
    "-1 & 1 & -1 & 1 \\\\\n",
    " 0 & 0 & 0 & 1 \\\\\n",
    " 1 & 1 & 1 & 1 \\\\\n",
    "\\end{array} \\right) \n",
    "\\left( \\begin{array}{c}\n",
    "a \\\\ b \\\\ c \\\\ d\n",
    "\\end{array} \\right) \n",
    "=\n",
    "\\left( \\begin{array}{c}\n",
    "\\psi_0 \\\\ \\psi_1 \\\\ \\psi_2 \\\\ \\psi_3\n",
    "\\end{array} \\right) \n",
    "\\end{equation*}\n",
    "We only need an expression for \n",
    "\\begin{equation*}\n",
    "\\partial\\Psi/\\partial x_j = c\n",
    "\\end{equation*}"
   ]
  },
  {
   "cell_type": "code",
   "execution_count": null,
   "id": "83226be2-7a63-4068-9281-6b4ead04dc90",
   "metadata": {},
   "outputs": [],
   "source": [
    "# Find the finite differene gradient\n",
    "# Coefficients a,b,c,d of the polynomial\n",
    "PolyCoeffs = sy.Matrix(sy.symarray(\"PolyCoeffs\", (4,)))\n",
    "# Grid point values at j-2, j-1, j and j+1\n",
    "Psi = sy.Matrix(sy.symarray(\"Ψ\", (4,)), real=True)\n",
    "Dx = sy.symbols(\"Δx\", real=True)\n",
    "polyM = Matrix([[-2**3, 2**2,-2,1],\n",
    "                [-1,1,-1,1],\n",
    "                [0,0,0,1],\n",
    "                [1,1,1,1]])\n",
    "PolyCoeffs = polyM.solve(Psi)\n",
    "Ddx = PolyCoeffs[2]/Dx\n",
    "Ddx\n",
    "#print(latex(Ddx))"
   ]
  },
  {
   "cell_type": "code",
   "execution_count": null,
   "id": "09a09ff6-a9b7-4515-a2ab-8d01f0ad1719",
   "metadata": {},
   "outputs": [],
   "source": [
    "# Express as a difference of fluxes\n",
    "# Find Ψ_l and Ψ_r so that Ddx = (Ψ_r - Ψ_l)/dx\n",
    "DdxR = Ddx*Dx # The residual of Ddx*Dx after removal of (Ψ_r - Ψ_l)\n",
    "[Psil, Psir] = sy.symbols(\"Ψ_l, Ψ_r\", real=True)\n",
    "Psil = Psir = sy.S.Zero\n",
    "for j in range(len(Psi)-1):\n",
    "    Psil = Psil - Psi[j]*DdxR.coeff(Psi[j])\n",
    "    Psir = Psir - Psi[j+1]*DdxR.coeff(Psi[j])\n",
    "    DdxR = sy.collect(sy.expand(Ddx*Dx - (Psir - Psil)), Psi)\n",
    "\n",
    "print('Residual =', DdxR, '\\nThe right flux is')\n",
    "Psir"
   ]
  },
  {
   "cell_type": "code",
   "execution_count": null,
   "id": "e5acf3b9-afc8-4db4-b6f9-ef61790be8b2",
   "metadata": {},
   "outputs": [],
   "source": [
    " # Express $\\Psi_r$ as a linear combination of gradients\n",
    "u = Psi[2]\n",
    "gradu = (Psi[3] - Psi[1])/(2*Dx)\n",
    "gradf = (Psi[3] - Psi[2])/Dx\n",
    "PsirG = u + Dx/6*(2*gradu + gradf)\n",
    "resid = PsirG - Psir\n",
    "resid = sy.collect(sy.expand(resid), Psi)\n",
    "resid\n",
    "#PsirG"
   ]
  },
  {
   "cell_type": "code",
   "execution_count": null,
   "id": "4488fbc4-5b31-4001-91fa-704ebee87744",
   "metadata": {},
   "outputs": [],
   "source": [
    "# Stability Analysis\n",
    "# mu and eta for quasi-cubic\n",
    "kDx = sy.symbols(\"kΔx\", real=True)\n",
    "mu = 1 - E**(-I*kDx)\n",
    "eta = -mu\n",
    "\n",
    "indicies = [-1,0,1]\n",
    "weights = [sy.Rational(-1,6), sy.Rational(5/6), sy.Rational(1/3)]\n",
    "for j,w in zip(indicies, weights):\n",
    "    eta += w*(E**(j*I*kDx) - E**((j-1)*I*kDx))"
   ]
  },
  {
   "cell_type": "code",
   "execution_count": null,
   "id": "d8bd49af-28ae-4840-8aa5-5a26c54166c1",
   "metadata": {},
   "outputs": [],
   "source": [
    "# RK3 Butcher Tableau\n",
    "quarter = sy.Rational(1,4)\n",
    "sixth = sy.Rational(1,6)\n",
    "half  = sy.Rational(1,2)\n",
    "RK3 = [[1,0,0], [quarter,quarter,0], [sixth, sixth, 4*sixth]]\n",
    "RK1 = [[1]]\n",
    "RK = RK3"
   ]
  },
  {
   "cell_type": "code",
   "execution_count": null,
   "id": "ff44cf3d-8bd4-4cb3-83de-9c0011bb931a",
   "metadata": {},
   "outputs": [],
   "source": [
    "# Amplification factors for Strang carry-over AdImEx with RK3\n",
    "c, alpha, beta, gamma = sy.symbols(\"c, alpha, beta, gamma\", real=True, positive=True)\n",
    "A = sy.Matrix(sy.symarray(\"A\", (len(RK)+2,)))\n",
    "A[0] = 1 - c*(1-alpha)*beta*mu\n",
    "for i in range(1,len(RK)+1):\n",
    "    A[i] = A[0]\n",
    "    for j in range(0,i):\n",
    "        A[i] -= c*((1-beta)*mu + gamma*eta)*RK[i-1][j]*A[j]\n",
    "A[-1] = A[-2]/(1 + c*alpha*beta*mu)"
   ]
  },
  {
   "cell_type": "code",
   "execution_count": null,
   "id": "c406cd69-05e0-419d-8671-2619e954f013",
   "metadata": {},
   "outputs": [],
   "source": [
    "# Amplification factor for beta =0, alpha=0, gamma=1\n",
    "magAexp = A[-1].subs({alpha:0, beta:0, gamma:1})\n",
    "magAexp = (sy.re(magAexp)**2 + sy.im(magAexp)**2)**(1/2)"
   ]
  },
  {
   "cell_type": "code",
   "execution_count": null,
   "id": "ceee1cd7-a0f9-4f9b-a4eb-1c5970a02243",
   "metadata": {},
   "outputs": [],
   "source": [
    "# Convert to a meshgrid as a funciton of c and kdx\n",
    "def magA(cs, kdxs):\n",
    "    try:\n",
    "        cs, kdxs = np.meshgrid(cs, kdxs)\n",
    "    except:\n",
    "        pass\n",
    "    return sy.lambdify([c, kDx], magAexp**.5, 'numpy')(cs, kdxs)\n",
    "\n",
    "cs = np.linspace(0,1.5, 16)\n",
    "kdxs = np.linspace(0, np.pi, 11)\n",
    "AE = magA(cs, kdxs)"
   ]
  },
  {
   "cell_type": "code",
   "execution_count": null,
   "id": "764d4260-e372-468c-9b93-7329005675fc",
   "metadata": {},
   "outputs": [],
   "source": [
    "plt.contourf(cs, kdxs, AE)\n",
    "plt.colorbar()\n",
    "plt.contour(cs, kdxs, AE, [1,100], colors='w')\n",
    "plt.xlabel('c')\n",
    "plt.ylabel(r'$k\\Delta x$')\n",
    "plt.show()"
   ]
  },
  {
   "cell_type": "code",
   "execution_count": null,
   "id": "9f13374a-d8b2-49b9-ae10-006eb0e2d7bf",
   "metadata": {},
   "outputs": [],
   "source": [
    "# Check that the cubic fluxes exactly reproduce a gradient of a 3rd order polynomial\n",
    "a,b,c,d,x = sy.symbols(\"a b c d x\", real=True)\n",
    "poly = a*x**3 + b*x**2 + c*x + d\n",
    "gradPoly = poly.diff(x)\n",
    "Psi0 = poly.subs({x: -2*x})\n",
    "Psi1 = poly.subs({x: -x})\n",
    "Psi2 = poly.subs({x: 0})\n",
    "Psi3 = poly.subs({x: x})\n",
    "right = Psir.subs({Psi[1]:Psi1, Psi[2]:Psi2, Psi[3]:Psi3})\n",
    "left  = Psir.subs({Psi[1]:Psi0, Psi[2]:Psi1, Psi[3]:Psi2})\n",
    "gradPolyN = (right - left)/x\n",
    "gradPolyN = sy.collect(sy.expand(gradPolyN), x)\n",
    "#Psir\n",
    "gradPolyN"
   ]
  }
 ],
 "metadata": {
  "kernelspec": {
   "display_name": "Python 3 (ipykernel)",
   "language": "python",
   "name": "python3"
  },
  "language_info": {
   "codemirror_mode": {
    "name": "ipython",
    "version": 3
   },
   "file_extension": ".py",
   "mimetype": "text/x-python",
   "name": "python",
   "nbconvert_exporter": "python",
   "pygments_lexer": "ipython3",
   "version": "3.12.3"
  }
 },
 "nbformat": 4,
 "nbformat_minor": 5
}

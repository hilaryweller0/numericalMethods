{
 "cells": [
  {
   "cell_type": "markdown",
   "id": "6e846945-519d-41d6-b3b3-dee54f66be3e",
   "metadata": {},
   "source": [
    "# PPM From Colella dn Woodward (1984)\n",
    "\n",
    "Method to solve 1D advection equation\n",
    "$$\n",
    "\\frac{\\partial a}{\\partial t} + u \\frac{\\partial a}{\\partial \\xi} = 0\n",
    "$$\n",
    "This note describes the method for a uniform grid without monotonicity constraints.\n",
    "\n",
    "$\\xi_{j+1/2}$ is the boundary between cells $j$ and $j+1$.\n",
    "\n",
    "$a_j^n$ is the average value of the solution in cell $j$.\n",
    "\n",
    "$a(\\xi)$ is a piecewise polynomial satisfying\n",
    "$$\n",
    "a_j^n = \\frac{1}{\\Delta\\xi}\\int_{\\xi_{j-1/2}}^{\\xi_{j+1/2}} a(\\xi) d\\xi\n",
    "$$\n",
    "\\begin{eqnarray}\n",
    "a(\\xi) &=&a_{L,j} + x(\\Delta a_j + a_{6,j}(1-x)) \\\\\n",
    "x &=& \\frac{\\xi - \\xi_{j-1/2}}{\\Delta \\xi}\\\\\n",
    "\\Delta a_j &=& a_{R,j} - a_{L,j}\\\\\n",
    "a_{6,j} &=& 6\\left(a_j^n - \\frac{1}{2}(a_{L,j} + a_{R,j})\\right)\n",
    "\\end{eqnarray}\n",
    "Where the solution is smooth:\n",
    "$$\n",
    "a_{L,j+1} = a_{R,j} = a_{j+1/2}\n",
    "$$\n",
    "For a uniform grid:\n",
    "$$\n",
    "a_{j+1/2} = \\frac{7}{12}(a_j^n + a_{j+1}^n) - \\frac{1}{12}(a_{j+2}^n + a_{j-1}^n)\n",
    "$$\n",
    "Define\n",
    "\\begin{align*}\n",
    "f_{j+1/2,L}^a(y) &= a_{R,j} - \\frac{x}{2}\\left(\\Delta a_j - \\left(1-\\frac{2}{3}x\\right)a_{6,j}\\right), & \\text{for } x&= \\frac{y}{\\Delta\\xi} \\\\\n",
    "f_{j+1/2,R}^a(y) &= a_{L,j+1} + \\frac{x}{2}\\left(\\Delta a_{j+1} + \\left(1-\\frac{2}{3}x\\right)a_{6,j+1}\\right), & \\text{for } x&= \\frac{y}{\\Delta\\xi} \\\\\n",
    "\\end{align*}\n",
    "Then\n",
    "\\begin{align*}\n",
    "a_j^{n+1} &= a_j^n - u\\frac{\\Delta t}{\\Delta \\xi} (\\overline{a}_{j+1/2} - \\overline{a}_{j-1/2})&&\\\\\n",
    "\\text{where } \\overline{a}_{j+1/2} &= f_{j+1/2,L}^a(u\\Delta t)& \\text{for } u\\ge 0\n",
    "\\end{align*}"
   ]
  },
  {
   "cell_type": "markdown",
   "id": "4f8dec0f-e995-49b3-a061-e2a0b168881f",
   "metadata": {},
   "source": [
    "## Simplification for Smooth Solutions on a Uniform Grid with $u\\ge 0$\n",
    "Define Courant number, $c = u\\Delta t/\\Delta\\xi = x$\n",
    "\\begin{align*}\n",
    "a_j^{n+1} &= a_j^n - u\\frac{\\Delta t}{\\Delta \\xi} (\\overline{a}_{j+1/2} - \\overline{a}_{j-1/2})\\\\\n",
    "a_{j+1/2} &= \\frac{7}{12}(a_j^n + a_{j+1}^n) - \\frac{1}{12}(a_{j+2}^n + a_{j-1}^n)\\\\\n",
    "\\overline{a}_{j+1/2} &=  a_{j+1/2} - \\frac{c}{2}\\left(a_{j+1/2} - a_{j-1/2} - \\left(1-\\frac{2}{3}c\\right)6\\left(a_j^n - \\frac{1}{2}(a_{j-1/2} + a_{j+1/2})\\right)\\right)\\\\\n",
    "     &=  \\left(1 - \\frac{c}{2} \\right) a_{j+1/2}\n",
    "      +  \\left(\\frac{c}{2} \\right) a_{j-1/2}\n",
    "      - \\frac{c}{2}\\left(  3-2c \\right)\\left(a_{j-1/2} + a_{j+1/2}\\right)\n",
    "      + c\\left(3-2c\\right)a_j^n\\\\\n",
    "     &=  (1-c)^2 a_{j+1/2}\n",
    "      +  c(1-c) a_{j-1/2}\n",
    "      + c\\left(3-2c\\right)a_j^n\n",
    "\\end{align*}"
   ]
  },
  {
   "cell_type": "markdown",
   "id": "48d4dd92-0a45-4714-8088-ec2b2fb41a7a",
   "metadata": {},
   "source": [
    "# Large Courant numbers from LLM85\n",
    "### (Leonard, Lock and Macvean, 1985)\n",
    "\n",
    "$$\n",
    "\\overline{\\phi}_j^{n+1} = \\overline{\\phi}_j^n - c(\\phi_{jr} - \\phi_{j\\ell})\n",
    "$$\n",
    "Courant number, $c = u\\Delta t/h = N +\\Delta c$. Define $i = j-N$. Then\n",
    "$$\n",
    "\\overline{\\phi}_j^{n+1} = \\overline{\\phi}_{i}^n - \\Delta c(\\phi_{ir} - \\phi_{i\\ell})\n",
    "$$\n",
    "\\begin{align*}\n",
    "c \\phi_{jr} &= \\sum_{k=i+1}^j \\overline{\\phi}_k + \\Delta c \\phi_{ir}\\\\\n",
    "\\implies \\phi_{jr} &= \\frac{1}{c}\\sum_{k=i+1}^j \\overline{\\phi}_k + \\frac{\\Delta c}{c} \\phi_{ir}\n",
    "\\end{align*}\n"
   ]
  }
 ],
 "metadata": {
  "kernelspec": {
   "display_name": "Python 3 (ipykernel)",
   "language": "python",
   "name": "python3"
  },
  "language_info": {
   "codemirror_mode": {
    "name": "ipython",
    "version": 3
   },
   "file_extension": ".py",
   "mimetype": "text/x-python",
   "name": "python",
   "nbconvert_exporter": "python",
   "pygments_lexer": "ipython3",
   "version": "3.12.3"
  }
 },
 "nbformat": 4,
 "nbformat_minor": 5
}
